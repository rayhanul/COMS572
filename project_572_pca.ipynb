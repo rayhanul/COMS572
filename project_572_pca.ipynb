{
 "cells": [
  {
   "cell_type": "code",
   "execution_count": 28,
   "id": "feb783d1",
   "metadata": {},
   "outputs": [],
   "source": [
    "import pandas as pd\n",
    "import numpy as np \n",
    "import matplotlib.pyplot as plt\n",
    "import seaborn as sns \n",
    "from sklearn.preprocessing import StandardScaler\n",
    "from sklearn.utils import resample\n",
    "\n",
    "from sklearn.metrics import roc_curve, auc\n",
    "\n",
    "from imblearn.over_sampling import SMOTE\n",
    "\n",
    "from imblearn.combine import SMOTEENN"
   ]
  },
  {
   "cell_type": "code",
   "execution_count": 29,
   "id": "fe477975",
   "metadata": {},
   "outputs": [],
   "source": [
    "\n",
    "df = pd.read_csv('UCI_Credit_Card.csv')\n"
   ]
  },
  {
   "cell_type": "code",
   "execution_count": 30,
   "id": "d36ebcfe",
   "metadata": {},
   "outputs": [],
   "source": [
    "\n",
    "summary_result=[]"
   ]
  },
  {
   "cell_type": "code",
   "execution_count": 31,
   "id": "e267706c",
   "metadata": {},
   "outputs": [
    {
     "data": {
      "text/html": [
       "<div>\n",
       "<style scoped>\n",
       "    .dataframe tbody tr th:only-of-type {\n",
       "        vertical-align: middle;\n",
       "    }\n",
       "\n",
       "    .dataframe tbody tr th {\n",
       "        vertical-align: top;\n",
       "    }\n",
       "\n",
       "    .dataframe thead th {\n",
       "        text-align: right;\n",
       "    }\n",
       "</style>\n",
       "<table border=\"1\" class=\"dataframe\">\n",
       "  <thead>\n",
       "    <tr style=\"text-align: right;\">\n",
       "      <th></th>\n",
       "      <th>ID</th>\n",
       "      <th>LIMIT_BAL</th>\n",
       "      <th>SEX</th>\n",
       "      <th>EDUCATION</th>\n",
       "      <th>MARRIAGE</th>\n",
       "      <th>AGE</th>\n",
       "      <th>PAY_0</th>\n",
       "      <th>PAY_2</th>\n",
       "      <th>PAY_3</th>\n",
       "      <th>PAY_4</th>\n",
       "      <th>...</th>\n",
       "      <th>BILL_AMT4</th>\n",
       "      <th>BILL_AMT5</th>\n",
       "      <th>BILL_AMT6</th>\n",
       "      <th>PAY_AMT1</th>\n",
       "      <th>PAY_AMT2</th>\n",
       "      <th>PAY_AMT3</th>\n",
       "      <th>PAY_AMT4</th>\n",
       "      <th>PAY_AMT5</th>\n",
       "      <th>PAY_AMT6</th>\n",
       "      <th>default.payment.next.month</th>\n",
       "    </tr>\n",
       "  </thead>\n",
       "  <tbody>\n",
       "    <tr>\n",
       "      <th>0</th>\n",
       "      <td>1</td>\n",
       "      <td>20000.0</td>\n",
       "      <td>2</td>\n",
       "      <td>2</td>\n",
       "      <td>1</td>\n",
       "      <td>24</td>\n",
       "      <td>2</td>\n",
       "      <td>2</td>\n",
       "      <td>-1</td>\n",
       "      <td>-1</td>\n",
       "      <td>...</td>\n",
       "      <td>0.0</td>\n",
       "      <td>0.0</td>\n",
       "      <td>0.0</td>\n",
       "      <td>0.0</td>\n",
       "      <td>689.0</td>\n",
       "      <td>0.0</td>\n",
       "      <td>0.0</td>\n",
       "      <td>0.0</td>\n",
       "      <td>0.0</td>\n",
       "      <td>1</td>\n",
       "    </tr>\n",
       "    <tr>\n",
       "      <th>1</th>\n",
       "      <td>2</td>\n",
       "      <td>120000.0</td>\n",
       "      <td>2</td>\n",
       "      <td>2</td>\n",
       "      <td>2</td>\n",
       "      <td>26</td>\n",
       "      <td>-1</td>\n",
       "      <td>2</td>\n",
       "      <td>0</td>\n",
       "      <td>0</td>\n",
       "      <td>...</td>\n",
       "      <td>3272.0</td>\n",
       "      <td>3455.0</td>\n",
       "      <td>3261.0</td>\n",
       "      <td>0.0</td>\n",
       "      <td>1000.0</td>\n",
       "      <td>1000.0</td>\n",
       "      <td>1000.0</td>\n",
       "      <td>0.0</td>\n",
       "      <td>2000.0</td>\n",
       "      <td>1</td>\n",
       "    </tr>\n",
       "    <tr>\n",
       "      <th>2</th>\n",
       "      <td>3</td>\n",
       "      <td>90000.0</td>\n",
       "      <td>2</td>\n",
       "      <td>2</td>\n",
       "      <td>2</td>\n",
       "      <td>34</td>\n",
       "      <td>0</td>\n",
       "      <td>0</td>\n",
       "      <td>0</td>\n",
       "      <td>0</td>\n",
       "      <td>...</td>\n",
       "      <td>14331.0</td>\n",
       "      <td>14948.0</td>\n",
       "      <td>15549.0</td>\n",
       "      <td>1518.0</td>\n",
       "      <td>1500.0</td>\n",
       "      <td>1000.0</td>\n",
       "      <td>1000.0</td>\n",
       "      <td>1000.0</td>\n",
       "      <td>5000.0</td>\n",
       "      <td>0</td>\n",
       "    </tr>\n",
       "    <tr>\n",
       "      <th>3</th>\n",
       "      <td>4</td>\n",
       "      <td>50000.0</td>\n",
       "      <td>2</td>\n",
       "      <td>2</td>\n",
       "      <td>1</td>\n",
       "      <td>37</td>\n",
       "      <td>0</td>\n",
       "      <td>0</td>\n",
       "      <td>0</td>\n",
       "      <td>0</td>\n",
       "      <td>...</td>\n",
       "      <td>28314.0</td>\n",
       "      <td>28959.0</td>\n",
       "      <td>29547.0</td>\n",
       "      <td>2000.0</td>\n",
       "      <td>2019.0</td>\n",
       "      <td>1200.0</td>\n",
       "      <td>1100.0</td>\n",
       "      <td>1069.0</td>\n",
       "      <td>1000.0</td>\n",
       "      <td>0</td>\n",
       "    </tr>\n",
       "    <tr>\n",
       "      <th>4</th>\n",
       "      <td>5</td>\n",
       "      <td>50000.0</td>\n",
       "      <td>1</td>\n",
       "      <td>2</td>\n",
       "      <td>1</td>\n",
       "      <td>57</td>\n",
       "      <td>-1</td>\n",
       "      <td>0</td>\n",
       "      <td>-1</td>\n",
       "      <td>0</td>\n",
       "      <td>...</td>\n",
       "      <td>20940.0</td>\n",
       "      <td>19146.0</td>\n",
       "      <td>19131.0</td>\n",
       "      <td>2000.0</td>\n",
       "      <td>36681.0</td>\n",
       "      <td>10000.0</td>\n",
       "      <td>9000.0</td>\n",
       "      <td>689.0</td>\n",
       "      <td>679.0</td>\n",
       "      <td>0</td>\n",
       "    </tr>\n",
       "    <tr>\n",
       "      <th>...</th>\n",
       "      <td>...</td>\n",
       "      <td>...</td>\n",
       "      <td>...</td>\n",
       "      <td>...</td>\n",
       "      <td>...</td>\n",
       "      <td>...</td>\n",
       "      <td>...</td>\n",
       "      <td>...</td>\n",
       "      <td>...</td>\n",
       "      <td>...</td>\n",
       "      <td>...</td>\n",
       "      <td>...</td>\n",
       "      <td>...</td>\n",
       "      <td>...</td>\n",
       "      <td>...</td>\n",
       "      <td>...</td>\n",
       "      <td>...</td>\n",
       "      <td>...</td>\n",
       "      <td>...</td>\n",
       "      <td>...</td>\n",
       "      <td>...</td>\n",
       "    </tr>\n",
       "    <tr>\n",
       "      <th>29995</th>\n",
       "      <td>29996</td>\n",
       "      <td>220000.0</td>\n",
       "      <td>1</td>\n",
       "      <td>3</td>\n",
       "      <td>1</td>\n",
       "      <td>39</td>\n",
       "      <td>0</td>\n",
       "      <td>0</td>\n",
       "      <td>0</td>\n",
       "      <td>0</td>\n",
       "      <td>...</td>\n",
       "      <td>88004.0</td>\n",
       "      <td>31237.0</td>\n",
       "      <td>15980.0</td>\n",
       "      <td>8500.0</td>\n",
       "      <td>20000.0</td>\n",
       "      <td>5003.0</td>\n",
       "      <td>3047.0</td>\n",
       "      <td>5000.0</td>\n",
       "      <td>1000.0</td>\n",
       "      <td>0</td>\n",
       "    </tr>\n",
       "    <tr>\n",
       "      <th>29996</th>\n",
       "      <td>29997</td>\n",
       "      <td>150000.0</td>\n",
       "      <td>1</td>\n",
       "      <td>3</td>\n",
       "      <td>2</td>\n",
       "      <td>43</td>\n",
       "      <td>-1</td>\n",
       "      <td>-1</td>\n",
       "      <td>-1</td>\n",
       "      <td>-1</td>\n",
       "      <td>...</td>\n",
       "      <td>8979.0</td>\n",
       "      <td>5190.0</td>\n",
       "      <td>0.0</td>\n",
       "      <td>1837.0</td>\n",
       "      <td>3526.0</td>\n",
       "      <td>8998.0</td>\n",
       "      <td>129.0</td>\n",
       "      <td>0.0</td>\n",
       "      <td>0.0</td>\n",
       "      <td>0</td>\n",
       "    </tr>\n",
       "    <tr>\n",
       "      <th>29997</th>\n",
       "      <td>29998</td>\n",
       "      <td>30000.0</td>\n",
       "      <td>1</td>\n",
       "      <td>2</td>\n",
       "      <td>2</td>\n",
       "      <td>37</td>\n",
       "      <td>4</td>\n",
       "      <td>3</td>\n",
       "      <td>2</td>\n",
       "      <td>-1</td>\n",
       "      <td>...</td>\n",
       "      <td>20878.0</td>\n",
       "      <td>20582.0</td>\n",
       "      <td>19357.0</td>\n",
       "      <td>0.0</td>\n",
       "      <td>0.0</td>\n",
       "      <td>22000.0</td>\n",
       "      <td>4200.0</td>\n",
       "      <td>2000.0</td>\n",
       "      <td>3100.0</td>\n",
       "      <td>1</td>\n",
       "    </tr>\n",
       "    <tr>\n",
       "      <th>29998</th>\n",
       "      <td>29999</td>\n",
       "      <td>80000.0</td>\n",
       "      <td>1</td>\n",
       "      <td>3</td>\n",
       "      <td>1</td>\n",
       "      <td>41</td>\n",
       "      <td>1</td>\n",
       "      <td>-1</td>\n",
       "      <td>0</td>\n",
       "      <td>0</td>\n",
       "      <td>...</td>\n",
       "      <td>52774.0</td>\n",
       "      <td>11855.0</td>\n",
       "      <td>48944.0</td>\n",
       "      <td>85900.0</td>\n",
       "      <td>3409.0</td>\n",
       "      <td>1178.0</td>\n",
       "      <td>1926.0</td>\n",
       "      <td>52964.0</td>\n",
       "      <td>1804.0</td>\n",
       "      <td>1</td>\n",
       "    </tr>\n",
       "    <tr>\n",
       "      <th>29999</th>\n",
       "      <td>30000</td>\n",
       "      <td>50000.0</td>\n",
       "      <td>1</td>\n",
       "      <td>2</td>\n",
       "      <td>1</td>\n",
       "      <td>46</td>\n",
       "      <td>0</td>\n",
       "      <td>0</td>\n",
       "      <td>0</td>\n",
       "      <td>0</td>\n",
       "      <td>...</td>\n",
       "      <td>36535.0</td>\n",
       "      <td>32428.0</td>\n",
       "      <td>15313.0</td>\n",
       "      <td>2078.0</td>\n",
       "      <td>1800.0</td>\n",
       "      <td>1430.0</td>\n",
       "      <td>1000.0</td>\n",
       "      <td>1000.0</td>\n",
       "      <td>1000.0</td>\n",
       "      <td>1</td>\n",
       "    </tr>\n",
       "  </tbody>\n",
       "</table>\n",
       "<p>30000 rows × 25 columns</p>\n",
       "</div>"
      ],
      "text/plain": [
       "          ID  LIMIT_BAL  SEX  EDUCATION  MARRIAGE  AGE  PAY_0  PAY_2  PAY_3  \\\n",
       "0          1    20000.0    2          2         1   24      2      2     -1   \n",
       "1          2   120000.0    2          2         2   26     -1      2      0   \n",
       "2          3    90000.0    2          2         2   34      0      0      0   \n",
       "3          4    50000.0    2          2         1   37      0      0      0   \n",
       "4          5    50000.0    1          2         1   57     -1      0     -1   \n",
       "...      ...        ...  ...        ...       ...  ...    ...    ...    ...   \n",
       "29995  29996   220000.0    1          3         1   39      0      0      0   \n",
       "29996  29997   150000.0    1          3         2   43     -1     -1     -1   \n",
       "29997  29998    30000.0    1          2         2   37      4      3      2   \n",
       "29998  29999    80000.0    1          3         1   41      1     -1      0   \n",
       "29999  30000    50000.0    1          2         1   46      0      0      0   \n",
       "\n",
       "       PAY_4  ...  BILL_AMT4  BILL_AMT5  BILL_AMT6  PAY_AMT1  PAY_AMT2  \\\n",
       "0         -1  ...        0.0        0.0        0.0       0.0     689.0   \n",
       "1          0  ...     3272.0     3455.0     3261.0       0.0    1000.0   \n",
       "2          0  ...    14331.0    14948.0    15549.0    1518.0    1500.0   \n",
       "3          0  ...    28314.0    28959.0    29547.0    2000.0    2019.0   \n",
       "4          0  ...    20940.0    19146.0    19131.0    2000.0   36681.0   \n",
       "...      ...  ...        ...        ...        ...       ...       ...   \n",
       "29995      0  ...    88004.0    31237.0    15980.0    8500.0   20000.0   \n",
       "29996     -1  ...     8979.0     5190.0        0.0    1837.0    3526.0   \n",
       "29997     -1  ...    20878.0    20582.0    19357.0       0.0       0.0   \n",
       "29998      0  ...    52774.0    11855.0    48944.0   85900.0    3409.0   \n",
       "29999      0  ...    36535.0    32428.0    15313.0    2078.0    1800.0   \n",
       "\n",
       "       PAY_AMT3  PAY_AMT4  PAY_AMT5  PAY_AMT6  default.payment.next.month  \n",
       "0           0.0       0.0       0.0       0.0                           1  \n",
       "1        1000.0    1000.0       0.0    2000.0                           1  \n",
       "2        1000.0    1000.0    1000.0    5000.0                           0  \n",
       "3        1200.0    1100.0    1069.0    1000.0                           0  \n",
       "4       10000.0    9000.0     689.0     679.0                           0  \n",
       "...         ...       ...       ...       ...                         ...  \n",
       "29995    5003.0    3047.0    5000.0    1000.0                           0  \n",
       "29996    8998.0     129.0       0.0       0.0                           0  \n",
       "29997   22000.0    4200.0    2000.0    3100.0                           1  \n",
       "29998    1178.0    1926.0   52964.0    1804.0                           1  \n",
       "29999    1430.0    1000.0    1000.0    1000.0                           1  \n",
       "\n",
       "[30000 rows x 25 columns]"
      ]
     },
     "execution_count": 31,
     "metadata": {},
     "output_type": "execute_result"
    }
   ],
   "source": [
    "df"
   ]
  },
  {
   "cell_type": "code",
   "execution_count": 32,
   "id": "dd5a73bf",
   "metadata": {},
   "outputs": [
    {
     "data": {
      "text/plain": [
       "0    23364\n",
       "1     6636\n",
       "Name: default.payment.next.month, dtype: int64"
      ]
     },
     "execution_count": 32,
     "metadata": {},
     "output_type": "execute_result"
    }
   ],
   "source": [
    "df['default.payment.next.month'].value_counts()"
   ]
  },
  {
   "cell_type": "code",
   "execution_count": 33,
   "id": "d0bf00ac",
   "metadata": {},
   "outputs": [
    {
     "data": {
      "text/plain": [
       "ID                            0\n",
       "LIMIT_BAL                     0\n",
       "SEX                           0\n",
       "EDUCATION                     0\n",
       "MARRIAGE                      0\n",
       "AGE                           0\n",
       "PAY_0                         0\n",
       "PAY_2                         0\n",
       "PAY_3                         0\n",
       "PAY_4                         0\n",
       "PAY_5                         0\n",
       "PAY_6                         0\n",
       "BILL_AMT1                     0\n",
       "BILL_AMT2                     0\n",
       "BILL_AMT3                     0\n",
       "BILL_AMT4                     0\n",
       "BILL_AMT5                     0\n",
       "BILL_AMT6                     0\n",
       "PAY_AMT1                      0\n",
       "PAY_AMT2                      0\n",
       "PAY_AMT3                      0\n",
       "PAY_AMT4                      0\n",
       "PAY_AMT5                      0\n",
       "PAY_AMT6                      0\n",
       "default.payment.next.month    0\n",
       "dtype: int64"
      ]
     },
     "execution_count": 33,
     "metadata": {},
     "output_type": "execute_result"
    }
   ],
   "source": [
    "df.apply(lambda x:sum(x.isnull()))"
   ]
  },
  {
   "cell_type": "code",
   "execution_count": 34,
   "id": "87975d87",
   "metadata": {},
   "outputs": [
    {
     "data": {
      "text/html": [
       "<div>\n",
       "<style scoped>\n",
       "    .dataframe tbody tr th:only-of-type {\n",
       "        vertical-align: middle;\n",
       "    }\n",
       "\n",
       "    .dataframe tbody tr th {\n",
       "        vertical-align: top;\n",
       "    }\n",
       "\n",
       "    .dataframe thead th {\n",
       "        text-align: right;\n",
       "    }\n",
       "</style>\n",
       "<table border=\"1\" class=\"dataframe\">\n",
       "  <thead>\n",
       "    <tr style=\"text-align: right;\">\n",
       "      <th></th>\n",
       "      <th>count</th>\n",
       "      <th>mean</th>\n",
       "      <th>std</th>\n",
       "      <th>min</th>\n",
       "      <th>25%</th>\n",
       "      <th>50%</th>\n",
       "      <th>75%</th>\n",
       "      <th>max</th>\n",
       "    </tr>\n",
       "  </thead>\n",
       "  <tbody>\n",
       "    <tr>\n",
       "      <th>ID</th>\n",
       "      <td>30000.0</td>\n",
       "      <td>15000.500000</td>\n",
       "      <td>8660.398374</td>\n",
       "      <td>1.0</td>\n",
       "      <td>7500.75</td>\n",
       "      <td>15000.5</td>\n",
       "      <td>22500.25</td>\n",
       "      <td>30000.0</td>\n",
       "    </tr>\n",
       "    <tr>\n",
       "      <th>LIMIT_BAL</th>\n",
       "      <td>30000.0</td>\n",
       "      <td>167484.322667</td>\n",
       "      <td>129747.661567</td>\n",
       "      <td>10000.0</td>\n",
       "      <td>50000.00</td>\n",
       "      <td>140000.0</td>\n",
       "      <td>240000.00</td>\n",
       "      <td>1000000.0</td>\n",
       "    </tr>\n",
       "    <tr>\n",
       "      <th>SEX</th>\n",
       "      <td>30000.0</td>\n",
       "      <td>1.603733</td>\n",
       "      <td>0.489129</td>\n",
       "      <td>1.0</td>\n",
       "      <td>1.00</td>\n",
       "      <td>2.0</td>\n",
       "      <td>2.00</td>\n",
       "      <td>2.0</td>\n",
       "    </tr>\n",
       "    <tr>\n",
       "      <th>EDUCATION</th>\n",
       "      <td>30000.0</td>\n",
       "      <td>1.853133</td>\n",
       "      <td>0.790349</td>\n",
       "      <td>0.0</td>\n",
       "      <td>1.00</td>\n",
       "      <td>2.0</td>\n",
       "      <td>2.00</td>\n",
       "      <td>6.0</td>\n",
       "    </tr>\n",
       "    <tr>\n",
       "      <th>MARRIAGE</th>\n",
       "      <td>30000.0</td>\n",
       "      <td>1.551867</td>\n",
       "      <td>0.521970</td>\n",
       "      <td>0.0</td>\n",
       "      <td>1.00</td>\n",
       "      <td>2.0</td>\n",
       "      <td>2.00</td>\n",
       "      <td>3.0</td>\n",
       "    </tr>\n",
       "    <tr>\n",
       "      <th>AGE</th>\n",
       "      <td>30000.0</td>\n",
       "      <td>35.485500</td>\n",
       "      <td>9.217904</td>\n",
       "      <td>21.0</td>\n",
       "      <td>28.00</td>\n",
       "      <td>34.0</td>\n",
       "      <td>41.00</td>\n",
       "      <td>79.0</td>\n",
       "    </tr>\n",
       "    <tr>\n",
       "      <th>PAY_0</th>\n",
       "      <td>30000.0</td>\n",
       "      <td>-0.016700</td>\n",
       "      <td>1.123802</td>\n",
       "      <td>-2.0</td>\n",
       "      <td>-1.00</td>\n",
       "      <td>0.0</td>\n",
       "      <td>0.00</td>\n",
       "      <td>8.0</td>\n",
       "    </tr>\n",
       "    <tr>\n",
       "      <th>PAY_2</th>\n",
       "      <td>30000.0</td>\n",
       "      <td>-0.133767</td>\n",
       "      <td>1.197186</td>\n",
       "      <td>-2.0</td>\n",
       "      <td>-1.00</td>\n",
       "      <td>0.0</td>\n",
       "      <td>0.00</td>\n",
       "      <td>8.0</td>\n",
       "    </tr>\n",
       "    <tr>\n",
       "      <th>PAY_3</th>\n",
       "      <td>30000.0</td>\n",
       "      <td>-0.166200</td>\n",
       "      <td>1.196868</td>\n",
       "      <td>-2.0</td>\n",
       "      <td>-1.00</td>\n",
       "      <td>0.0</td>\n",
       "      <td>0.00</td>\n",
       "      <td>8.0</td>\n",
       "    </tr>\n",
       "    <tr>\n",
       "      <th>PAY_4</th>\n",
       "      <td>30000.0</td>\n",
       "      <td>-0.220667</td>\n",
       "      <td>1.169139</td>\n",
       "      <td>-2.0</td>\n",
       "      <td>-1.00</td>\n",
       "      <td>0.0</td>\n",
       "      <td>0.00</td>\n",
       "      <td>8.0</td>\n",
       "    </tr>\n",
       "    <tr>\n",
       "      <th>PAY_5</th>\n",
       "      <td>30000.0</td>\n",
       "      <td>-0.266200</td>\n",
       "      <td>1.133187</td>\n",
       "      <td>-2.0</td>\n",
       "      <td>-1.00</td>\n",
       "      <td>0.0</td>\n",
       "      <td>0.00</td>\n",
       "      <td>8.0</td>\n",
       "    </tr>\n",
       "    <tr>\n",
       "      <th>PAY_6</th>\n",
       "      <td>30000.0</td>\n",
       "      <td>-0.291100</td>\n",
       "      <td>1.149988</td>\n",
       "      <td>-2.0</td>\n",
       "      <td>-1.00</td>\n",
       "      <td>0.0</td>\n",
       "      <td>0.00</td>\n",
       "      <td>8.0</td>\n",
       "    </tr>\n",
       "    <tr>\n",
       "      <th>BILL_AMT1</th>\n",
       "      <td>30000.0</td>\n",
       "      <td>51223.330900</td>\n",
       "      <td>73635.860576</td>\n",
       "      <td>-165580.0</td>\n",
       "      <td>3558.75</td>\n",
       "      <td>22381.5</td>\n",
       "      <td>67091.00</td>\n",
       "      <td>964511.0</td>\n",
       "    </tr>\n",
       "    <tr>\n",
       "      <th>BILL_AMT2</th>\n",
       "      <td>30000.0</td>\n",
       "      <td>49179.075167</td>\n",
       "      <td>71173.768783</td>\n",
       "      <td>-69777.0</td>\n",
       "      <td>2984.75</td>\n",
       "      <td>21200.0</td>\n",
       "      <td>64006.25</td>\n",
       "      <td>983931.0</td>\n",
       "    </tr>\n",
       "    <tr>\n",
       "      <th>BILL_AMT3</th>\n",
       "      <td>30000.0</td>\n",
       "      <td>47013.154800</td>\n",
       "      <td>69349.387427</td>\n",
       "      <td>-157264.0</td>\n",
       "      <td>2666.25</td>\n",
       "      <td>20088.5</td>\n",
       "      <td>60164.75</td>\n",
       "      <td>1664089.0</td>\n",
       "    </tr>\n",
       "    <tr>\n",
       "      <th>BILL_AMT4</th>\n",
       "      <td>30000.0</td>\n",
       "      <td>43262.948967</td>\n",
       "      <td>64332.856134</td>\n",
       "      <td>-170000.0</td>\n",
       "      <td>2326.75</td>\n",
       "      <td>19052.0</td>\n",
       "      <td>54506.00</td>\n",
       "      <td>891586.0</td>\n",
       "    </tr>\n",
       "    <tr>\n",
       "      <th>BILL_AMT5</th>\n",
       "      <td>30000.0</td>\n",
       "      <td>40311.400967</td>\n",
       "      <td>60797.155770</td>\n",
       "      <td>-81334.0</td>\n",
       "      <td>1763.00</td>\n",
       "      <td>18104.5</td>\n",
       "      <td>50190.50</td>\n",
       "      <td>927171.0</td>\n",
       "    </tr>\n",
       "    <tr>\n",
       "      <th>BILL_AMT6</th>\n",
       "      <td>30000.0</td>\n",
       "      <td>38871.760400</td>\n",
       "      <td>59554.107537</td>\n",
       "      <td>-339603.0</td>\n",
       "      <td>1256.00</td>\n",
       "      <td>17071.0</td>\n",
       "      <td>49198.25</td>\n",
       "      <td>961664.0</td>\n",
       "    </tr>\n",
       "    <tr>\n",
       "      <th>PAY_AMT1</th>\n",
       "      <td>30000.0</td>\n",
       "      <td>5663.580500</td>\n",
       "      <td>16563.280354</td>\n",
       "      <td>0.0</td>\n",
       "      <td>1000.00</td>\n",
       "      <td>2100.0</td>\n",
       "      <td>5006.00</td>\n",
       "      <td>873552.0</td>\n",
       "    </tr>\n",
       "    <tr>\n",
       "      <th>PAY_AMT2</th>\n",
       "      <td>30000.0</td>\n",
       "      <td>5921.163500</td>\n",
       "      <td>23040.870402</td>\n",
       "      <td>0.0</td>\n",
       "      <td>833.00</td>\n",
       "      <td>2009.0</td>\n",
       "      <td>5000.00</td>\n",
       "      <td>1684259.0</td>\n",
       "    </tr>\n",
       "    <tr>\n",
       "      <th>PAY_AMT3</th>\n",
       "      <td>30000.0</td>\n",
       "      <td>5225.681500</td>\n",
       "      <td>17606.961470</td>\n",
       "      <td>0.0</td>\n",
       "      <td>390.00</td>\n",
       "      <td>1800.0</td>\n",
       "      <td>4505.00</td>\n",
       "      <td>896040.0</td>\n",
       "    </tr>\n",
       "    <tr>\n",
       "      <th>PAY_AMT4</th>\n",
       "      <td>30000.0</td>\n",
       "      <td>4826.076867</td>\n",
       "      <td>15666.159744</td>\n",
       "      <td>0.0</td>\n",
       "      <td>296.00</td>\n",
       "      <td>1500.0</td>\n",
       "      <td>4013.25</td>\n",
       "      <td>621000.0</td>\n",
       "    </tr>\n",
       "    <tr>\n",
       "      <th>PAY_AMT5</th>\n",
       "      <td>30000.0</td>\n",
       "      <td>4799.387633</td>\n",
       "      <td>15278.305679</td>\n",
       "      <td>0.0</td>\n",
       "      <td>252.50</td>\n",
       "      <td>1500.0</td>\n",
       "      <td>4031.50</td>\n",
       "      <td>426529.0</td>\n",
       "    </tr>\n",
       "    <tr>\n",
       "      <th>PAY_AMT6</th>\n",
       "      <td>30000.0</td>\n",
       "      <td>5215.502567</td>\n",
       "      <td>17777.465775</td>\n",
       "      <td>0.0</td>\n",
       "      <td>117.75</td>\n",
       "      <td>1500.0</td>\n",
       "      <td>4000.00</td>\n",
       "      <td>528666.0</td>\n",
       "    </tr>\n",
       "    <tr>\n",
       "      <th>default.payment.next.month</th>\n",
       "      <td>30000.0</td>\n",
       "      <td>0.221200</td>\n",
       "      <td>0.415062</td>\n",
       "      <td>0.0</td>\n",
       "      <td>0.00</td>\n",
       "      <td>0.0</td>\n",
       "      <td>0.00</td>\n",
       "      <td>1.0</td>\n",
       "    </tr>\n",
       "  </tbody>\n",
       "</table>\n",
       "</div>"
      ],
      "text/plain": [
       "                              count           mean            std       min  \\\n",
       "ID                          30000.0   15000.500000    8660.398374       1.0   \n",
       "LIMIT_BAL                   30000.0  167484.322667  129747.661567   10000.0   \n",
       "SEX                         30000.0       1.603733       0.489129       1.0   \n",
       "EDUCATION                   30000.0       1.853133       0.790349       0.0   \n",
       "MARRIAGE                    30000.0       1.551867       0.521970       0.0   \n",
       "AGE                         30000.0      35.485500       9.217904      21.0   \n",
       "PAY_0                       30000.0      -0.016700       1.123802      -2.0   \n",
       "PAY_2                       30000.0      -0.133767       1.197186      -2.0   \n",
       "PAY_3                       30000.0      -0.166200       1.196868      -2.0   \n",
       "PAY_4                       30000.0      -0.220667       1.169139      -2.0   \n",
       "PAY_5                       30000.0      -0.266200       1.133187      -2.0   \n",
       "PAY_6                       30000.0      -0.291100       1.149988      -2.0   \n",
       "BILL_AMT1                   30000.0   51223.330900   73635.860576 -165580.0   \n",
       "BILL_AMT2                   30000.0   49179.075167   71173.768783  -69777.0   \n",
       "BILL_AMT3                   30000.0   47013.154800   69349.387427 -157264.0   \n",
       "BILL_AMT4                   30000.0   43262.948967   64332.856134 -170000.0   \n",
       "BILL_AMT5                   30000.0   40311.400967   60797.155770  -81334.0   \n",
       "BILL_AMT6                   30000.0   38871.760400   59554.107537 -339603.0   \n",
       "PAY_AMT1                    30000.0    5663.580500   16563.280354       0.0   \n",
       "PAY_AMT2                    30000.0    5921.163500   23040.870402       0.0   \n",
       "PAY_AMT3                    30000.0    5225.681500   17606.961470       0.0   \n",
       "PAY_AMT4                    30000.0    4826.076867   15666.159744       0.0   \n",
       "PAY_AMT5                    30000.0    4799.387633   15278.305679       0.0   \n",
       "PAY_AMT6                    30000.0    5215.502567   17777.465775       0.0   \n",
       "default.payment.next.month  30000.0       0.221200       0.415062       0.0   \n",
       "\n",
       "                                 25%       50%        75%        max  \n",
       "ID                           7500.75   15000.5   22500.25    30000.0  \n",
       "LIMIT_BAL                   50000.00  140000.0  240000.00  1000000.0  \n",
       "SEX                             1.00       2.0       2.00        2.0  \n",
       "EDUCATION                       1.00       2.0       2.00        6.0  \n",
       "MARRIAGE                        1.00       2.0       2.00        3.0  \n",
       "AGE                            28.00      34.0      41.00       79.0  \n",
       "PAY_0                          -1.00       0.0       0.00        8.0  \n",
       "PAY_2                          -1.00       0.0       0.00        8.0  \n",
       "PAY_3                          -1.00       0.0       0.00        8.0  \n",
       "PAY_4                          -1.00       0.0       0.00        8.0  \n",
       "PAY_5                          -1.00       0.0       0.00        8.0  \n",
       "PAY_6                          -1.00       0.0       0.00        8.0  \n",
       "BILL_AMT1                    3558.75   22381.5   67091.00   964511.0  \n",
       "BILL_AMT2                    2984.75   21200.0   64006.25   983931.0  \n",
       "BILL_AMT3                    2666.25   20088.5   60164.75  1664089.0  \n",
       "BILL_AMT4                    2326.75   19052.0   54506.00   891586.0  \n",
       "BILL_AMT5                    1763.00   18104.5   50190.50   927171.0  \n",
       "BILL_AMT6                    1256.00   17071.0   49198.25   961664.0  \n",
       "PAY_AMT1                     1000.00    2100.0    5006.00   873552.0  \n",
       "PAY_AMT2                      833.00    2009.0    5000.00  1684259.0  \n",
       "PAY_AMT3                      390.00    1800.0    4505.00   896040.0  \n",
       "PAY_AMT4                      296.00    1500.0    4013.25   621000.0  \n",
       "PAY_AMT5                      252.50    1500.0    4031.50   426529.0  \n",
       "PAY_AMT6                      117.75    1500.0    4000.00   528666.0  \n",
       "default.payment.next.month      0.00       0.0       0.00        1.0  "
      ]
     },
     "execution_count": 34,
     "metadata": {},
     "output_type": "execute_result"
    }
   ],
   "source": [
    "df.describe().transpose()"
   ]
  },
  {
   "cell_type": "code",
   "execution_count": 35,
   "id": "71609cac",
   "metadata": {},
   "outputs": [],
   "source": [
    "# for i in df.columns:\n",
    "#     plt.hist(df[i])\n",
    "#     plt.xlabel(i)\n",
    "#     plt.ylabel('frequency')\n",
    "#     plt.show()"
   ]
  },
  {
   "cell_type": "code",
   "execution_count": 36,
   "id": "c9761da6",
   "metadata": {},
   "outputs": [
    {
     "ename": "KeyError",
     "evalue": "'Personal Loan'",
     "output_type": "error",
     "traceback": [
      "\u001b[0;31m---------------------------------------------------------------------------\u001b[0m",
      "\u001b[0;31mKeyError\u001b[0m                                  Traceback (most recent call last)",
      "\u001b[0;32m~/opt/anaconda3/lib/python3.8/site-packages/pandas/core/indexes/base.py\u001b[0m in \u001b[0;36mget_loc\u001b[0;34m(self, key, method, tolerance)\u001b[0m\n\u001b[1;32m   3079\u001b[0m             \u001b[0;32mtry\u001b[0m\u001b[0;34m:\u001b[0m\u001b[0;34m\u001b[0m\u001b[0;34m\u001b[0m\u001b[0m\n\u001b[0;32m-> 3080\u001b[0;31m                 \u001b[0;32mreturn\u001b[0m \u001b[0mself\u001b[0m\u001b[0;34m.\u001b[0m\u001b[0m_engine\u001b[0m\u001b[0;34m.\u001b[0m\u001b[0mget_loc\u001b[0m\u001b[0;34m(\u001b[0m\u001b[0mcasted_key\u001b[0m\u001b[0;34m)\u001b[0m\u001b[0;34m\u001b[0m\u001b[0;34m\u001b[0m\u001b[0m\n\u001b[0m\u001b[1;32m   3081\u001b[0m             \u001b[0;32mexcept\u001b[0m \u001b[0mKeyError\u001b[0m \u001b[0;32mas\u001b[0m \u001b[0merr\u001b[0m\u001b[0;34m:\u001b[0m\u001b[0;34m\u001b[0m\u001b[0;34m\u001b[0m\u001b[0m\n",
      "\u001b[0;32mpandas/_libs/index.pyx\u001b[0m in \u001b[0;36mpandas._libs.index.IndexEngine.get_loc\u001b[0;34m()\u001b[0m\n",
      "\u001b[0;32mpandas/_libs/index.pyx\u001b[0m in \u001b[0;36mpandas._libs.index.IndexEngine.get_loc\u001b[0;34m()\u001b[0m\n",
      "\u001b[0;32mpandas/_libs/hashtable_class_helper.pxi\u001b[0m in \u001b[0;36mpandas._libs.hashtable.PyObjectHashTable.get_item\u001b[0;34m()\u001b[0m\n",
      "\u001b[0;32mpandas/_libs/hashtable_class_helper.pxi\u001b[0m in \u001b[0;36mpandas._libs.hashtable.PyObjectHashTable.get_item\u001b[0;34m()\u001b[0m\n",
      "\u001b[0;31mKeyError\u001b[0m: 'Personal Loan'",
      "\nThe above exception was the direct cause of the following exception:\n",
      "\u001b[0;31mKeyError\u001b[0m                                  Traceback (most recent call last)",
      "\u001b[0;32m/var/folders/5d/jfk9yxr101l6s9055y3dfrjh0000gn/T/ipykernel_15870/1010739992.py\u001b[0m in \u001b[0;36m<module>\u001b[0;34m\u001b[0m\n\u001b[0;32m----> 1\u001b[0;31m \u001b[0msns\u001b[0m\u001b[0;34m.\u001b[0m\u001b[0mdistplot\u001b[0m\u001b[0;34m(\u001b[0m\u001b[0mdf\u001b[0m\u001b[0;34m[\u001b[0m\u001b[0;34m'Personal Loan'\u001b[0m\u001b[0;34m]\u001b[0m\u001b[0;34m,\u001b[0m\u001b[0mkde\u001b[0m\u001b[0;34m=\u001b[0m\u001b[0;32mFalse\u001b[0m\u001b[0;34m)\u001b[0m\u001b[0;34m\u001b[0m\u001b[0;34m\u001b[0m\u001b[0m\n\u001b[0m\u001b[1;32m      2\u001b[0m \u001b[0mplt\u001b[0m\u001b[0;34m.\u001b[0m\u001b[0mshow\u001b[0m\u001b[0;34m(\u001b[0m\u001b[0;34m)\u001b[0m\u001b[0;34m\u001b[0m\u001b[0;34m\u001b[0m\u001b[0m\n",
      "\u001b[0;32m~/opt/anaconda3/lib/python3.8/site-packages/pandas/core/frame.py\u001b[0m in \u001b[0;36m__getitem__\u001b[0;34m(self, key)\u001b[0m\n\u001b[1;32m   3022\u001b[0m             \u001b[0;32mif\u001b[0m \u001b[0mself\u001b[0m\u001b[0;34m.\u001b[0m\u001b[0mcolumns\u001b[0m\u001b[0;34m.\u001b[0m\u001b[0mnlevels\u001b[0m \u001b[0;34m>\u001b[0m \u001b[0;36m1\u001b[0m\u001b[0;34m:\u001b[0m\u001b[0;34m\u001b[0m\u001b[0;34m\u001b[0m\u001b[0m\n\u001b[1;32m   3023\u001b[0m                 \u001b[0;32mreturn\u001b[0m \u001b[0mself\u001b[0m\u001b[0;34m.\u001b[0m\u001b[0m_getitem_multilevel\u001b[0m\u001b[0;34m(\u001b[0m\u001b[0mkey\u001b[0m\u001b[0;34m)\u001b[0m\u001b[0;34m\u001b[0m\u001b[0;34m\u001b[0m\u001b[0m\n\u001b[0;32m-> 3024\u001b[0;31m             \u001b[0mindexer\u001b[0m \u001b[0;34m=\u001b[0m \u001b[0mself\u001b[0m\u001b[0;34m.\u001b[0m\u001b[0mcolumns\u001b[0m\u001b[0;34m.\u001b[0m\u001b[0mget_loc\u001b[0m\u001b[0;34m(\u001b[0m\u001b[0mkey\u001b[0m\u001b[0;34m)\u001b[0m\u001b[0;34m\u001b[0m\u001b[0;34m\u001b[0m\u001b[0m\n\u001b[0m\u001b[1;32m   3025\u001b[0m             \u001b[0;32mif\u001b[0m \u001b[0mis_integer\u001b[0m\u001b[0;34m(\u001b[0m\u001b[0mindexer\u001b[0m\u001b[0;34m)\u001b[0m\u001b[0;34m:\u001b[0m\u001b[0;34m\u001b[0m\u001b[0;34m\u001b[0m\u001b[0m\n\u001b[1;32m   3026\u001b[0m                 \u001b[0mindexer\u001b[0m \u001b[0;34m=\u001b[0m \u001b[0;34m[\u001b[0m\u001b[0mindexer\u001b[0m\u001b[0;34m]\u001b[0m\u001b[0;34m\u001b[0m\u001b[0;34m\u001b[0m\u001b[0m\n",
      "\u001b[0;32m~/opt/anaconda3/lib/python3.8/site-packages/pandas/core/indexes/base.py\u001b[0m in \u001b[0;36mget_loc\u001b[0;34m(self, key, method, tolerance)\u001b[0m\n\u001b[1;32m   3080\u001b[0m                 \u001b[0;32mreturn\u001b[0m \u001b[0mself\u001b[0m\u001b[0;34m.\u001b[0m\u001b[0m_engine\u001b[0m\u001b[0;34m.\u001b[0m\u001b[0mget_loc\u001b[0m\u001b[0;34m(\u001b[0m\u001b[0mcasted_key\u001b[0m\u001b[0;34m)\u001b[0m\u001b[0;34m\u001b[0m\u001b[0;34m\u001b[0m\u001b[0m\n\u001b[1;32m   3081\u001b[0m             \u001b[0;32mexcept\u001b[0m \u001b[0mKeyError\u001b[0m \u001b[0;32mas\u001b[0m \u001b[0merr\u001b[0m\u001b[0;34m:\u001b[0m\u001b[0;34m\u001b[0m\u001b[0;34m\u001b[0m\u001b[0m\n\u001b[0;32m-> 3082\u001b[0;31m                 \u001b[0;32mraise\u001b[0m \u001b[0mKeyError\u001b[0m\u001b[0;34m(\u001b[0m\u001b[0mkey\u001b[0m\u001b[0;34m)\u001b[0m \u001b[0;32mfrom\u001b[0m \u001b[0merr\u001b[0m\u001b[0;34m\u001b[0m\u001b[0;34m\u001b[0m\u001b[0m\n\u001b[0m\u001b[1;32m   3083\u001b[0m \u001b[0;34m\u001b[0m\u001b[0m\n\u001b[1;32m   3084\u001b[0m         \u001b[0;32mif\u001b[0m \u001b[0mtolerance\u001b[0m \u001b[0;32mis\u001b[0m \u001b[0;32mnot\u001b[0m \u001b[0;32mNone\u001b[0m\u001b[0;34m:\u001b[0m\u001b[0;34m\u001b[0m\u001b[0;34m\u001b[0m\u001b[0m\n",
      "\u001b[0;31mKeyError\u001b[0m: 'Personal Loan'"
     ]
    }
   ],
   "source": [
    "sns.distplot(df['Personal Loan'],kde=False)\n",
    "plt.show()"
   ]
  },
  {
   "cell_type": "markdown",
   "id": "76f72e8d",
   "metadata": {},
   "source": [
    "# SMOTEENN- Hybrid Sampling method"
   ]
  },
  {
   "cell_type": "code",
   "execution_count": 37,
   "id": "ca1066d8",
   "metadata": {},
   "outputs": [],
   "source": [
    "df_smote=df.copy()\n",
    "y = df_smote[\"default.payment.next.month\"]\n",
    "X = df_smote.drop(\"default.payment.next.month\", axis=1)\n",
    "sm  = SMOTEENN(random_state = 1)\n",
    "X_res, y_res = sm.fit_resample(X, y)\n",
    "df_balanced=X_res\n",
    "df_balanced['default.payment.next.month']=y_res\n"
   ]
  },
  {
   "cell_type": "code",
   "execution_count": 38,
   "id": "74e8c426",
   "metadata": {},
   "outputs": [],
   "source": [
    "df_balanced['default.payment.next.month'].value_counts()\n",
    "new_df = df_balanced.copy()\n"
   ]
  },
  {
   "cell_type": "code",
   "execution_count": 39,
   "id": "1626d0a4",
   "metadata": {},
   "outputs": [
    {
     "data": {
      "text/plain": [
       "1    17460\n",
       "0    10041\n",
       "Name: default.payment.next.month, dtype: int64"
      ]
     },
     "execution_count": 39,
     "metadata": {},
     "output_type": "execute_result"
    }
   ],
   "source": [
    "df_balanced['default.payment.next.month'].value_counts()"
   ]
  },
  {
   "cell_type": "markdown",
   "id": "0a261502",
   "metadata": {},
   "source": [
    "# Data Processing and Normalization"
   ]
  },
  {
   "cell_type": "code",
   "execution_count": 40,
   "id": "249ee0a2",
   "metadata": {},
   "outputs": [],
   "source": [
    "from sklearn.model_selection import train_test_split\n",
    "\n"
   ]
  },
  {
   "cell_type": "code",
   "execution_count": 41,
   "id": "790953c3",
   "metadata": {},
   "outputs": [],
   "source": [
    "from sklearn.preprocessing import MinMaxScaler\n",
    "scaler = MinMaxScaler()\n",
    "scaler.fit(new_df)\n",
    "scaled_features = scaler.transform(new_df)\n",
    "new_df = pd.DataFrame(data=scaled_features, columns= new_df.columns.values)"
   ]
  },
  {
   "cell_type": "code",
   "execution_count": 42,
   "id": "7e99bfa4",
   "metadata": {},
   "outputs": [
    {
     "data": {
      "text/html": [
       "<div>\n",
       "<style scoped>\n",
       "    .dataframe tbody tr th:only-of-type {\n",
       "        vertical-align: middle;\n",
       "    }\n",
       "\n",
       "    .dataframe tbody tr th {\n",
       "        vertical-align: top;\n",
       "    }\n",
       "\n",
       "    .dataframe thead th {\n",
       "        text-align: right;\n",
       "    }\n",
       "</style>\n",
       "<table border=\"1\" class=\"dataframe\">\n",
       "  <thead>\n",
       "    <tr style=\"text-align: right;\">\n",
       "      <th></th>\n",
       "      <th>count</th>\n",
       "      <th>mean</th>\n",
       "      <th>std</th>\n",
       "      <th>min</th>\n",
       "      <th>25%</th>\n",
       "      <th>50%</th>\n",
       "      <th>75%</th>\n",
       "      <th>max</th>\n",
       "    </tr>\n",
       "  </thead>\n",
       "  <tbody>\n",
       "    <tr>\n",
       "      <th>ID</th>\n",
       "      <td>27501.0</td>\n",
       "      <td>0.499920</td>\n",
       "      <td>0.277341</td>\n",
       "      <td>0.0</td>\n",
       "      <td>0.264277</td>\n",
       "      <td>0.502717</td>\n",
       "      <td>0.733456</td>\n",
       "      <td>1.0</td>\n",
       "    </tr>\n",
       "    <tr>\n",
       "      <th>LIMIT_BAL</th>\n",
       "      <td>27501.0</td>\n",
       "      <td>0.190751</td>\n",
       "      <td>0.170299</td>\n",
       "      <td>0.0</td>\n",
       "      <td>0.054054</td>\n",
       "      <td>0.139038</td>\n",
       "      <td>0.283784</td>\n",
       "      <td>1.0</td>\n",
       "    </tr>\n",
       "    <tr>\n",
       "      <th>SEX</th>\n",
       "      <td>27501.0</td>\n",
       "      <td>0.473910</td>\n",
       "      <td>0.499328</td>\n",
       "      <td>0.0</td>\n",
       "      <td>0.000000</td>\n",
       "      <td>0.000000</td>\n",
       "      <td>1.000000</td>\n",
       "      <td>1.0</td>\n",
       "    </tr>\n",
       "    <tr>\n",
       "      <th>EDUCATION</th>\n",
       "      <td>27501.0</td>\n",
       "      <td>0.289365</td>\n",
       "      <td>0.117573</td>\n",
       "      <td>0.0</td>\n",
       "      <td>0.166667</td>\n",
       "      <td>0.333333</td>\n",
       "      <td>0.333333</td>\n",
       "      <td>1.0</td>\n",
       "    </tr>\n",
       "    <tr>\n",
       "      <th>MARRIAGE</th>\n",
       "      <td>27501.0</td>\n",
       "      <td>0.472746</td>\n",
       "      <td>0.168863</td>\n",
       "      <td>0.0</td>\n",
       "      <td>0.333333</td>\n",
       "      <td>0.333333</td>\n",
       "      <td>0.666667</td>\n",
       "      <td>1.0</td>\n",
       "    </tr>\n",
       "    <tr>\n",
       "      <th>AGE</th>\n",
       "      <td>27501.0</td>\n",
       "      <td>0.264679</td>\n",
       "      <td>0.159357</td>\n",
       "      <td>0.0</td>\n",
       "      <td>0.148148</td>\n",
       "      <td>0.240741</td>\n",
       "      <td>0.370370</td>\n",
       "      <td>1.0</td>\n",
       "    </tr>\n",
       "    <tr>\n",
       "      <th>PAY_0</th>\n",
       "      <td>27501.0</td>\n",
       "      <td>0.227875</td>\n",
       "      <td>0.113216</td>\n",
       "      <td>0.0</td>\n",
       "      <td>0.200000</td>\n",
       "      <td>0.200000</td>\n",
       "      <td>0.300000</td>\n",
       "      <td>1.0</td>\n",
       "    </tr>\n",
       "    <tr>\n",
       "      <th>PAY_2</th>\n",
       "      <td>27501.0</td>\n",
       "      <td>0.240472</td>\n",
       "      <td>0.135164</td>\n",
       "      <td>0.0</td>\n",
       "      <td>0.111111</td>\n",
       "      <td>0.222222</td>\n",
       "      <td>0.333333</td>\n",
       "      <td>1.0</td>\n",
       "    </tr>\n",
       "    <tr>\n",
       "      <th>PAY_3</th>\n",
       "      <td>27501.0</td>\n",
       "      <td>0.210040</td>\n",
       "      <td>0.121188</td>\n",
       "      <td>0.0</td>\n",
       "      <td>0.100000</td>\n",
       "      <td>0.200000</td>\n",
       "      <td>0.200000</td>\n",
       "      <td>1.0</td>\n",
       "    </tr>\n",
       "    <tr>\n",
       "      <th>PAY_4</th>\n",
       "      <td>27501.0</td>\n",
       "      <td>0.226873</td>\n",
       "      <td>0.135486</td>\n",
       "      <td>0.0</td>\n",
       "      <td>0.111111</td>\n",
       "      <td>0.222222</td>\n",
       "      <td>0.222222</td>\n",
       "      <td>1.0</td>\n",
       "    </tr>\n",
       "    <tr>\n",
       "      <th>PAY_5</th>\n",
       "      <td>27501.0</td>\n",
       "      <td>0.220671</td>\n",
       "      <td>0.132059</td>\n",
       "      <td>0.0</td>\n",
       "      <td>0.111111</td>\n",
       "      <td>0.222222</td>\n",
       "      <td>0.222222</td>\n",
       "      <td>1.0</td>\n",
       "    </tr>\n",
       "    <tr>\n",
       "      <th>PAY_6</th>\n",
       "      <td>27501.0</td>\n",
       "      <td>0.194106</td>\n",
       "      <td>0.118998</td>\n",
       "      <td>0.0</td>\n",
       "      <td>0.100000</td>\n",
       "      <td>0.200000</td>\n",
       "      <td>0.200000</td>\n",
       "      <td>1.0</td>\n",
       "    </tr>\n",
       "    <tr>\n",
       "      <th>BILL_AMT1</th>\n",
       "      <td>27501.0</td>\n",
       "      <td>0.276465</td>\n",
       "      <td>0.092098</td>\n",
       "      <td>0.0</td>\n",
       "      <td>0.218026</td>\n",
       "      <td>0.241423</td>\n",
       "      <td>0.293646</td>\n",
       "      <td>1.0</td>\n",
       "    </tr>\n",
       "    <tr>\n",
       "      <th>BILL_AMT2</th>\n",
       "      <td>27501.0</td>\n",
       "      <td>0.178479</td>\n",
       "      <td>0.107127</td>\n",
       "      <td>0.0</td>\n",
       "      <td>0.110043</td>\n",
       "      <td>0.137896</td>\n",
       "      <td>0.197948</td>\n",
       "      <td>1.0</td>\n",
       "    </tr>\n",
       "    <tr>\n",
       "      <th>BILL_AMT3</th>\n",
       "      <td>27501.0</td>\n",
       "      <td>0.047333</td>\n",
       "      <td>0.039922</td>\n",
       "      <td>0.0</td>\n",
       "      <td>0.022166</td>\n",
       "      <td>0.032322</td>\n",
       "      <td>0.054329</td>\n",
       "      <td>1.0</td>\n",
       "    </tr>\n",
       "    <tr>\n",
       "      <th>BILL_AMT4</th>\n",
       "      <td>27501.0</td>\n",
       "      <td>0.266826</td>\n",
       "      <td>0.079570</td>\n",
       "      <td>0.0</td>\n",
       "      <td>0.216677</td>\n",
       "      <td>0.237406</td>\n",
       "      <td>0.278740</td>\n",
       "      <td>1.0</td>\n",
       "    </tr>\n",
       "    <tr>\n",
       "      <th>BILL_AMT5</th>\n",
       "      <td>27501.0</td>\n",
       "      <td>0.198665</td>\n",
       "      <td>0.097682</td>\n",
       "      <td>0.0</td>\n",
       "      <td>0.136819</td>\n",
       "      <td>0.163801</td>\n",
       "      <td>0.213512</td>\n",
       "      <td>1.0</td>\n",
       "    </tr>\n",
       "    <tr>\n",
       "      <th>BILL_AMT6</th>\n",
       "      <td>27501.0</td>\n",
       "      <td>0.333852</td>\n",
       "      <td>0.081796</td>\n",
       "      <td>0.0</td>\n",
       "      <td>0.282031</td>\n",
       "      <td>0.304886</td>\n",
       "      <td>0.347430</td>\n",
       "      <td>1.0</td>\n",
       "    </tr>\n",
       "    <tr>\n",
       "      <th>PAY_AMT1</th>\n",
       "      <td>27501.0</td>\n",
       "      <td>0.005684</td>\n",
       "      <td>0.017583</td>\n",
       "      <td>0.0</td>\n",
       "      <td>0.000771</td>\n",
       "      <td>0.002290</td>\n",
       "      <td>0.005096</td>\n",
       "      <td>1.0</td>\n",
       "    </tr>\n",
       "    <tr>\n",
       "      <th>PAY_AMT2</th>\n",
       "      <td>27501.0</td>\n",
       "      <td>0.002994</td>\n",
       "      <td>0.012657</td>\n",
       "      <td>0.0</td>\n",
       "      <td>0.000395</td>\n",
       "      <td>0.001170</td>\n",
       "      <td>0.002520</td>\n",
       "      <td>1.0</td>\n",
       "    </tr>\n",
       "    <tr>\n",
       "      <th>PAY_AMT3</th>\n",
       "      <td>27501.0</td>\n",
       "      <td>0.005266</td>\n",
       "      <td>0.018195</td>\n",
       "      <td>0.0</td>\n",
       "      <td>0.000414</td>\n",
       "      <td>0.001730</td>\n",
       "      <td>0.004319</td>\n",
       "      <td>1.0</td>\n",
       "    </tr>\n",
       "    <tr>\n",
       "      <th>PAY_AMT4</th>\n",
       "      <td>27501.0</td>\n",
       "      <td>0.006682</td>\n",
       "      <td>0.020875</td>\n",
       "      <td>0.0</td>\n",
       "      <td>0.000469</td>\n",
       "      <td>0.002080</td>\n",
       "      <td>0.005610</td>\n",
       "      <td>1.0</td>\n",
       "    </tr>\n",
       "    <tr>\n",
       "      <th>PAY_AMT5</th>\n",
       "      <td>27501.0</td>\n",
       "      <td>0.009647</td>\n",
       "      <td>0.030789</td>\n",
       "      <td>0.0</td>\n",
       "      <td>0.000720</td>\n",
       "      <td>0.003113</td>\n",
       "      <td>0.008206</td>\n",
       "      <td>1.0</td>\n",
       "    </tr>\n",
       "    <tr>\n",
       "      <th>PAY_AMT6</th>\n",
       "      <td>27501.0</td>\n",
       "      <td>0.008599</td>\n",
       "      <td>0.029881</td>\n",
       "      <td>0.0</td>\n",
       "      <td>0.000507</td>\n",
       "      <td>0.002461</td>\n",
       "      <td>0.006550</td>\n",
       "      <td>1.0</td>\n",
       "    </tr>\n",
       "    <tr>\n",
       "      <th>default.payment.next.month</th>\n",
       "      <td>27501.0</td>\n",
       "      <td>0.634886</td>\n",
       "      <td>0.481471</td>\n",
       "      <td>0.0</td>\n",
       "      <td>0.000000</td>\n",
       "      <td>1.000000</td>\n",
       "      <td>1.000000</td>\n",
       "      <td>1.0</td>\n",
       "    </tr>\n",
       "  </tbody>\n",
       "</table>\n",
       "</div>"
      ],
      "text/plain": [
       "                              count      mean       std  min       25%  \\\n",
       "ID                          27501.0  0.499920  0.277341  0.0  0.264277   \n",
       "LIMIT_BAL                   27501.0  0.190751  0.170299  0.0  0.054054   \n",
       "SEX                         27501.0  0.473910  0.499328  0.0  0.000000   \n",
       "EDUCATION                   27501.0  0.289365  0.117573  0.0  0.166667   \n",
       "MARRIAGE                    27501.0  0.472746  0.168863  0.0  0.333333   \n",
       "AGE                         27501.0  0.264679  0.159357  0.0  0.148148   \n",
       "PAY_0                       27501.0  0.227875  0.113216  0.0  0.200000   \n",
       "PAY_2                       27501.0  0.240472  0.135164  0.0  0.111111   \n",
       "PAY_3                       27501.0  0.210040  0.121188  0.0  0.100000   \n",
       "PAY_4                       27501.0  0.226873  0.135486  0.0  0.111111   \n",
       "PAY_5                       27501.0  0.220671  0.132059  0.0  0.111111   \n",
       "PAY_6                       27501.0  0.194106  0.118998  0.0  0.100000   \n",
       "BILL_AMT1                   27501.0  0.276465  0.092098  0.0  0.218026   \n",
       "BILL_AMT2                   27501.0  0.178479  0.107127  0.0  0.110043   \n",
       "BILL_AMT3                   27501.0  0.047333  0.039922  0.0  0.022166   \n",
       "BILL_AMT4                   27501.0  0.266826  0.079570  0.0  0.216677   \n",
       "BILL_AMT5                   27501.0  0.198665  0.097682  0.0  0.136819   \n",
       "BILL_AMT6                   27501.0  0.333852  0.081796  0.0  0.282031   \n",
       "PAY_AMT1                    27501.0  0.005684  0.017583  0.0  0.000771   \n",
       "PAY_AMT2                    27501.0  0.002994  0.012657  0.0  0.000395   \n",
       "PAY_AMT3                    27501.0  0.005266  0.018195  0.0  0.000414   \n",
       "PAY_AMT4                    27501.0  0.006682  0.020875  0.0  0.000469   \n",
       "PAY_AMT5                    27501.0  0.009647  0.030789  0.0  0.000720   \n",
       "PAY_AMT6                    27501.0  0.008599  0.029881  0.0  0.000507   \n",
       "default.payment.next.month  27501.0  0.634886  0.481471  0.0  0.000000   \n",
       "\n",
       "                                 50%       75%  max  \n",
       "ID                          0.502717  0.733456  1.0  \n",
       "LIMIT_BAL                   0.139038  0.283784  1.0  \n",
       "SEX                         0.000000  1.000000  1.0  \n",
       "EDUCATION                   0.333333  0.333333  1.0  \n",
       "MARRIAGE                    0.333333  0.666667  1.0  \n",
       "AGE                         0.240741  0.370370  1.0  \n",
       "PAY_0                       0.200000  0.300000  1.0  \n",
       "PAY_2                       0.222222  0.333333  1.0  \n",
       "PAY_3                       0.200000  0.200000  1.0  \n",
       "PAY_4                       0.222222  0.222222  1.0  \n",
       "PAY_5                       0.222222  0.222222  1.0  \n",
       "PAY_6                       0.200000  0.200000  1.0  \n",
       "BILL_AMT1                   0.241423  0.293646  1.0  \n",
       "BILL_AMT2                   0.137896  0.197948  1.0  \n",
       "BILL_AMT3                   0.032322  0.054329  1.0  \n",
       "BILL_AMT4                   0.237406  0.278740  1.0  \n",
       "BILL_AMT5                   0.163801  0.213512  1.0  \n",
       "BILL_AMT6                   0.304886  0.347430  1.0  \n",
       "PAY_AMT1                    0.002290  0.005096  1.0  \n",
       "PAY_AMT2                    0.001170  0.002520  1.0  \n",
       "PAY_AMT3                    0.001730  0.004319  1.0  \n",
       "PAY_AMT4                    0.002080  0.005610  1.0  \n",
       "PAY_AMT5                    0.003113  0.008206  1.0  \n",
       "PAY_AMT6                    0.002461  0.006550  1.0  \n",
       "default.payment.next.month  1.000000  1.000000  1.0  "
      ]
     },
     "execution_count": 42,
     "metadata": {},
     "output_type": "execute_result"
    }
   ],
   "source": [
    "new_df.describe().transpose()"
   ]
  },
  {
   "cell_type": "code",
   "execution_count": 46,
   "id": "9674a744",
   "metadata": {},
   "outputs": [],
   "source": [
    "from sklearn.decomposition import PCA\n",
    "\n",
    "pca = PCA(n_components=24)"
   ]
  },
  {
   "cell_type": "code",
   "execution_count": 47,
   "id": "4006a283",
   "metadata": {},
   "outputs": [
    {
     "data": {
      "text/plain": [
       "PCA(n_components=24)"
      ]
     },
     "execution_count": 47,
     "metadata": {},
     "output_type": "execute_result"
    }
   ],
   "source": [
    "pca.fit(new_df)"
   ]
  },
  {
   "cell_type": "code",
   "execution_count": 48,
   "id": "9d16e1e1",
   "metadata": {},
   "outputs": [
    {
     "name": "stdout",
     "output_type": "stream",
     "text": [
      "[3.85054697e-01 2.40868357e-01 9.66369424e-02 8.26262729e-02\n",
      " 5.90298135e-02 4.30229510e-02 2.12621098e-02 2.05965639e-02\n",
      " 1.30826901e-02 1.24651451e-02 6.72202004e-03 5.11666360e-03\n",
      " 3.41579863e-03 2.64696468e-03 2.46465296e-03 1.26645614e-03\n",
      " 1.08738526e-03 6.69548069e-04 6.16485509e-04 5.17355094e-04\n",
      " 2.89240511e-04 2.18501127e-04 1.55716962e-04 1.29215722e-04]\n"
     ]
    }
   ],
   "source": [
    "print(pca.explained_variance_ratio_)"
   ]
  },
  {
   "cell_type": "code",
   "execution_count": 49,
   "id": "ed99d116",
   "metadata": {},
   "outputs": [],
   "source": [
    "pca = PCA(n_components=10)\n",
    "# new_df = pca.fit_transform(new_df)\n"
   ]
  },
  {
   "cell_type": "code",
   "execution_count": 23,
   "id": "7e711077",
   "metadata": {},
   "outputs": [
    {
     "ename": "AttributeError",
     "evalue": "'numpy.ndarray' object has no attribute 'value_counts'",
     "output_type": "error",
     "traceback": [
      "\u001b[0;31m---------------------------------------------------------------------------\u001b[0m",
      "\u001b[0;31mAttributeError\u001b[0m                            Traceback (most recent call last)",
      "\u001b[0;32m/var/folders/5d/jfk9yxr101l6s9055y3dfrjh0000gn/T/ipykernel_15870/1825663691.py\u001b[0m in \u001b[0;36m<module>\u001b[0;34m\u001b[0m\n\u001b[0;32m----> 1\u001b[0;31m \u001b[0mnew_df\u001b[0m\u001b[0;34m.\u001b[0m\u001b[0mvalue_counts\u001b[0m\u001b[0;34m(\u001b[0m\u001b[0;34m)\u001b[0m\u001b[0;34m\u001b[0m\u001b[0;34m\u001b[0m\u001b[0m\n\u001b[0m",
      "\u001b[0;31mAttributeError\u001b[0m: 'numpy.ndarray' object has no attribute 'value_counts'"
     ]
    }
   ],
   "source": [
    "# new_df.value_counts()"
   ]
  },
  {
   "cell_type": "code",
   "execution_count": 29,
   "id": "1bea1702",
   "metadata": {},
   "outputs": [],
   "source": [
    "# from scipy.stats import pearsonr"
   ]
  },
  {
   "cell_type": "code",
   "execution_count": 30,
   "id": "0779bf82",
   "metadata": {},
   "outputs": [
    {
     "name": "stdout",
     "output_type": "stream",
     "text": [
      "ID : -0.03258462535330242\n",
      "LIMIT_BAL : -0.3260097860725662\n",
      "SEX : -0.22771064661857965\n",
      "EDUCATION : -0.07161478120688394\n",
      "MARRIAGE : -0.2017836514441625\n",
      "AGE : -0.01725117450334847\n",
      "PAY_0 : 0.3856470646437605\n",
      "PAY_2 : 0.3363947939394317\n",
      "PAY_3 : 0.3142304162623033\n",
      "PAY_4 : 0.2914363146748079\n",
      "PAY_5 : 0.27869897349236844\n",
      "PAY_6 : 0.26188016073956927\n",
      "BILL_AMT1 : -0.03879643705307247\n",
      "BILL_AMT2 : -0.026970020245707587\n",
      "BILL_AMT3 : -0.024906737604187202\n",
      "BILL_AMT4 : -0.01670236612784391\n",
      "BILL_AMT5 : -0.009897695052861479\n",
      "BILL_AMT6 : -0.007335823854109835\n",
      "PAY_AMT1 : -0.1818115793675741\n",
      "PAY_AMT2 : -0.1477003607826861\n",
      "PAY_AMT3 : -0.1433888848755251\n",
      "PAY_AMT4 : -0.15899913695473944\n",
      "PAY_AMT5 : -0.15206386704900826\n",
      "PAY_AMT6 : -0.14028728478732835\n",
      "default.payment.next.month : 1.0\n"
     ]
    }
   ],
   "source": [
    "# for eachValue in new_df.columns:    \n",
    "#     corr, _ = pearsonr(new_df[eachValue], new_df['default.payment.next.month'])\n",
    "#     print('{0} : {1}'.format( eachValue, corr))\n"
   ]
  },
  {
   "cell_type": "code",
   "execution_count": 31,
   "id": "81864ae2",
   "metadata": {},
   "outputs": [],
   "source": [
    "# new_df=new_df.drop('ID',axis=1)\n",
    "# new_df=new_df.drop('LIMIT_BAL',axis=1)\n",
    "# new_df=new_df.drop('SEX',axis=1)\n",
    "# new_df=new_df.drop('EDUCATION',axis=1)\n",
    "# new_df=new_df.drop('MARRIAGE',axis=1)\n",
    "# new_df=new_df.drop('AGE',axis=1)\n",
    "# new_df=new_df.drop('BILL_AMT1',axis=1)\n",
    "# new_df=new_df.drop('BILL_AMT2',axis=1)\n",
    "# new_df=new_df.drop('BILL_AMT3',axis=1)\n",
    "# new_df=new_df.drop('BILL_AMT4',axis=1)\n",
    "# new_df=new_df.drop('BILL_AMT5',axis=1)\n",
    "# new_df=new_df.drop('BILL_AMT6',axis=1)\n",
    "# new_df=new_df.drop('PAY_AMT1',axis=1)\n",
    "# new_df=new_df.drop('PAY_AMT2',axis=1)\n",
    "# new_df=new_df.drop('PAY_AMT3',axis=1)\n",
    "# new_df=new_df.drop('PAY_AMT4',axis=1)\n",
    "# new_df=new_df.drop('PAY_AMT5',axis=1)\n",
    "# new_df=new_df.drop('PAY_AMT6',axis=1)"
   ]
  },
  {
   "cell_type": "code",
   "execution_count": 70,
   "id": "d98baecd",
   "metadata": {},
   "outputs": [],
   "source": [
    "y_original=new_df['default.payment.next.month']\n",
    "X_original=new_df.drop('default.payment.next.month', axis=1)"
   ]
  },
  {
   "cell_type": "code",
   "execution_count": 71,
   "id": "f1e07677",
   "metadata": {},
   "outputs": [],
   "source": [
    "X_original=pca.fit_transform(X_original)"
   ]
  },
  {
   "cell_type": "code",
   "execution_count": 72,
   "id": "35d60a31",
   "metadata": {},
   "outputs": [],
   "source": [
    "X_original=pd.DataFrame(X_original)"
   ]
  },
  {
   "cell_type": "code",
   "execution_count": 59,
   "id": "07f76363",
   "metadata": {},
   "outputs": [
    {
     "data": {
      "text/plain": [
       "pandas.core.frame.DataFrame"
      ]
     },
     "execution_count": 59,
     "metadata": {},
     "output_type": "execute_result"
    }
   ],
   "source": [
    "type(X_original)"
   ]
  },
  {
   "cell_type": "code",
   "execution_count": 60,
   "id": "80d4f820",
   "metadata": {},
   "outputs": [],
   "source": [
    "X, x_test, y,y_test=train_test_split(X_original,y_original,test_size=0.2)"
   ]
  },
  {
   "cell_type": "code",
   "execution_count": 68,
   "id": "48c0aa15",
   "metadata": {},
   "outputs": [
    {
     "data": {
      "text/html": [
       "<div>\n",
       "<style scoped>\n",
       "    .dataframe tbody tr th:only-of-type {\n",
       "        vertical-align: middle;\n",
       "    }\n",
       "\n",
       "    .dataframe tbody tr th {\n",
       "        vertical-align: top;\n",
       "    }\n",
       "\n",
       "    .dataframe thead th {\n",
       "        text-align: right;\n",
       "    }\n",
       "</style>\n",
       "<table border=\"1\" class=\"dataframe\">\n",
       "  <thead>\n",
       "    <tr style=\"text-align: right;\">\n",
       "      <th></th>\n",
       "      <th>ID</th>\n",
       "      <th>LIMIT_BAL</th>\n",
       "      <th>SEX</th>\n",
       "      <th>EDUCATION</th>\n",
       "      <th>MARRIAGE</th>\n",
       "      <th>AGE</th>\n",
       "      <th>PAY_0</th>\n",
       "      <th>PAY_2</th>\n",
       "      <th>PAY_3</th>\n",
       "      <th>PAY_4</th>\n",
       "      <th>...</th>\n",
       "      <th>BILL_AMT3</th>\n",
       "      <th>BILL_AMT4</th>\n",
       "      <th>BILL_AMT5</th>\n",
       "      <th>BILL_AMT6</th>\n",
       "      <th>PAY_AMT1</th>\n",
       "      <th>PAY_AMT2</th>\n",
       "      <th>PAY_AMT3</th>\n",
       "      <th>PAY_AMT4</th>\n",
       "      <th>PAY_AMT5</th>\n",
       "      <th>PAY_AMT6</th>\n",
       "    </tr>\n",
       "  </thead>\n",
       "  <tbody>\n",
       "    <tr>\n",
       "      <th>0</th>\n",
       "      <td>0.368528</td>\n",
       "      <td>0.000000</td>\n",
       "      <td>0.0</td>\n",
       "      <td>0.166667</td>\n",
       "      <td>0.333333</td>\n",
       "      <td>0.185185</td>\n",
       "      <td>0.5</td>\n",
       "      <td>0.444444</td>\n",
       "      <td>0.3</td>\n",
       "      <td>0.333333</td>\n",
       "      <td>...</td>\n",
       "      <td>0.025400</td>\n",
       "      <td>0.224061</td>\n",
       "      <td>0.147841</td>\n",
       "      <td>0.292310</td>\n",
       "      <td>0.000441</td>\n",
       "      <td>0.000230</td>\n",
       "      <td>0.000120</td>\n",
       "      <td>0.000687</td>\n",
       "      <td>0.000810</td>\n",
       "      <td>0.000796</td>\n",
       "    </tr>\n",
       "    <tr>\n",
       "      <th>1</th>\n",
       "      <td>0.312352</td>\n",
       "      <td>0.027027</td>\n",
       "      <td>1.0</td>\n",
       "      <td>0.500000</td>\n",
       "      <td>0.333333</td>\n",
       "      <td>0.500000</td>\n",
       "      <td>0.4</td>\n",
       "      <td>0.444444</td>\n",
       "      <td>0.2</td>\n",
       "      <td>0.222222</td>\n",
       "      <td>...</td>\n",
       "      <td>0.035564</td>\n",
       "      <td>0.250061</td>\n",
       "      <td>0.180828</td>\n",
       "      <td>0.320892</td>\n",
       "      <td>0.000000</td>\n",
       "      <td>0.001226</td>\n",
       "      <td>0.004330</td>\n",
       "      <td>0.000325</td>\n",
       "      <td>0.002231</td>\n",
       "      <td>0.002081</td>\n",
       "    </tr>\n",
       "    <tr>\n",
       "      <th>2</th>\n",
       "      <td>0.886648</td>\n",
       "      <td>0.013514</td>\n",
       "      <td>0.0</td>\n",
       "      <td>0.333333</td>\n",
       "      <td>0.333333</td>\n",
       "      <td>0.111111</td>\n",
       "      <td>0.2</td>\n",
       "      <td>0.222222</td>\n",
       "      <td>0.2</td>\n",
       "      <td>0.222222</td>\n",
       "      <td>...</td>\n",
       "      <td>0.030406</td>\n",
       "      <td>0.231111</td>\n",
       "      <td>0.133917</td>\n",
       "      <td>0.307284</td>\n",
       "      <td>0.001717</td>\n",
       "      <td>0.000769</td>\n",
       "      <td>0.001350</td>\n",
       "      <td>0.001005</td>\n",
       "      <td>0.045866</td>\n",
       "      <td>0.001188</td>\n",
       "    </tr>\n",
       "    <tr>\n",
       "      <th>3</th>\n",
       "      <td>0.907085</td>\n",
       "      <td>0.517899</td>\n",
       "      <td>0.0</td>\n",
       "      <td>0.166667</td>\n",
       "      <td>0.666667</td>\n",
       "      <td>0.333333</td>\n",
       "      <td>0.0</td>\n",
       "      <td>0.000000</td>\n",
       "      <td>0.0</td>\n",
       "      <td>0.000000</td>\n",
       "      <td>...</td>\n",
       "      <td>0.020041</td>\n",
       "      <td>0.212835</td>\n",
       "      <td>0.132883</td>\n",
       "      <td>0.279362</td>\n",
       "      <td>0.000000</td>\n",
       "      <td>0.000000</td>\n",
       "      <td>0.000000</td>\n",
       "      <td>0.000000</td>\n",
       "      <td>0.000000</td>\n",
       "      <td>0.000017</td>\n",
       "    </tr>\n",
       "    <tr>\n",
       "      <th>4</th>\n",
       "      <td>0.568528</td>\n",
       "      <td>0.054054</td>\n",
       "      <td>1.0</td>\n",
       "      <td>0.333333</td>\n",
       "      <td>0.666667</td>\n",
       "      <td>0.018519</td>\n",
       "      <td>0.2</td>\n",
       "      <td>0.222222</td>\n",
       "      <td>0.4</td>\n",
       "      <td>0.222222</td>\n",
       "      <td>...</td>\n",
       "      <td>0.040454</td>\n",
       "      <td>0.256672</td>\n",
       "      <td>0.190926</td>\n",
       "      <td>0.282987</td>\n",
       "      <td>0.004236</td>\n",
       "      <td>0.000000</td>\n",
       "      <td>0.001350</td>\n",
       "      <td>0.001143</td>\n",
       "      <td>0.000122</td>\n",
       "      <td>0.001892</td>\n",
       "    </tr>\n",
       "    <tr>\n",
       "      <th>...</th>\n",
       "      <td>...</td>\n",
       "      <td>...</td>\n",
       "      <td>...</td>\n",
       "      <td>...</td>\n",
       "      <td>...</td>\n",
       "      <td>...</td>\n",
       "      <td>...</td>\n",
       "      <td>...</td>\n",
       "      <td>...</td>\n",
       "      <td>...</td>\n",
       "      <td>...</td>\n",
       "      <td>...</td>\n",
       "      <td>...</td>\n",
       "      <td>...</td>\n",
       "      <td>...</td>\n",
       "      <td>...</td>\n",
       "      <td>...</td>\n",
       "      <td>...</td>\n",
       "      <td>...</td>\n",
       "      <td>...</td>\n",
       "      <td>...</td>\n",
       "    </tr>\n",
       "    <tr>\n",
       "      <th>27496</th>\n",
       "      <td>0.199667</td>\n",
       "      <td>0.283784</td>\n",
       "      <td>0.0</td>\n",
       "      <td>0.166667</td>\n",
       "      <td>0.333333</td>\n",
       "      <td>0.444444</td>\n",
       "      <td>0.3</td>\n",
       "      <td>0.444444</td>\n",
       "      <td>0.2</td>\n",
       "      <td>0.222222</td>\n",
       "      <td>...</td>\n",
       "      <td>0.112498</td>\n",
       "      <td>0.411566</td>\n",
       "      <td>0.397800</td>\n",
       "      <td>0.510824</td>\n",
       "      <td>0.000000</td>\n",
       "      <td>0.004512</td>\n",
       "      <td>0.006411</td>\n",
       "      <td>0.009662</td>\n",
       "      <td>0.014067</td>\n",
       "      <td>0.023266</td>\n",
       "    </tr>\n",
       "    <tr>\n",
       "      <th>27497</th>\n",
       "      <td>0.254176</td>\n",
       "      <td>0.013514</td>\n",
       "      <td>1.0</td>\n",
       "      <td>0.500000</td>\n",
       "      <td>1.000000</td>\n",
       "      <td>0.500000</td>\n",
       "      <td>0.2</td>\n",
       "      <td>0.222222</td>\n",
       "      <td>0.2</td>\n",
       "      <td>0.222222</td>\n",
       "      <td>...</td>\n",
       "      <td>0.031195</td>\n",
       "      <td>0.236321</td>\n",
       "      <td>0.163322</td>\n",
       "      <td>0.305497</td>\n",
       "      <td>0.001497</td>\n",
       "      <td>0.000946</td>\n",
       "      <td>0.000900</td>\n",
       "      <td>0.001127</td>\n",
       "      <td>0.001737</td>\n",
       "      <td>0.001004</td>\n",
       "    </tr>\n",
       "    <tr>\n",
       "      <th>27498</th>\n",
       "      <td>0.669045</td>\n",
       "      <td>0.072319</td>\n",
       "      <td>1.0</td>\n",
       "      <td>0.166667</td>\n",
       "      <td>0.333333</td>\n",
       "      <td>0.370370</td>\n",
       "      <td>0.2</td>\n",
       "      <td>0.222222</td>\n",
       "      <td>0.2</td>\n",
       "      <td>0.222222</td>\n",
       "      <td>...</td>\n",
       "      <td>0.052794</td>\n",
       "      <td>0.280111</td>\n",
       "      <td>0.178504</td>\n",
       "      <td>0.320146</td>\n",
       "      <td>0.003837</td>\n",
       "      <td>0.001616</td>\n",
       "      <td>0.005574</td>\n",
       "      <td>0.005783</td>\n",
       "      <td>0.005908</td>\n",
       "      <td>0.002014</td>\n",
       "    </tr>\n",
       "    <tr>\n",
       "      <th>27499</th>\n",
       "      <td>0.770762</td>\n",
       "      <td>0.148649</td>\n",
       "      <td>1.0</td>\n",
       "      <td>0.500000</td>\n",
       "      <td>0.333333</td>\n",
       "      <td>0.351852</td>\n",
       "      <td>0.2</td>\n",
       "      <td>0.222222</td>\n",
       "      <td>0.2</td>\n",
       "      <td>0.222222</td>\n",
       "      <td>...</td>\n",
       "      <td>0.061777</td>\n",
       "      <td>0.293218</td>\n",
       "      <td>0.233767</td>\n",
       "      <td>0.362939</td>\n",
       "      <td>0.003438</td>\n",
       "      <td>0.001676</td>\n",
       "      <td>0.002828</td>\n",
       "      <td>0.002789</td>\n",
       "      <td>0.004117</td>\n",
       "      <td>0.003195</td>\n",
       "    </tr>\n",
       "    <tr>\n",
       "      <th>27500</th>\n",
       "      <td>0.421037</td>\n",
       "      <td>0.094595</td>\n",
       "      <td>1.0</td>\n",
       "      <td>0.333333</td>\n",
       "      <td>0.666667</td>\n",
       "      <td>0.111111</td>\n",
       "      <td>0.2</td>\n",
       "      <td>0.222222</td>\n",
       "      <td>0.2</td>\n",
       "      <td>0.222222</td>\n",
       "      <td>...</td>\n",
       "      <td>0.035027</td>\n",
       "      <td>0.245574</td>\n",
       "      <td>0.180010</td>\n",
       "      <td>0.319198</td>\n",
       "      <td>0.002491</td>\n",
       "      <td>0.000771</td>\n",
       "      <td>0.001125</td>\n",
       "      <td>0.004831</td>\n",
       "      <td>0.002300</td>\n",
       "      <td>0.003783</td>\n",
       "    </tr>\n",
       "  </tbody>\n",
       "</table>\n",
       "<p>27501 rows × 24 columns</p>\n",
       "</div>"
      ],
      "text/plain": [
       "             ID  LIMIT_BAL  SEX  EDUCATION  MARRIAGE       AGE  PAY_0  \\\n",
       "0      0.368528   0.000000  0.0   0.166667  0.333333  0.185185    0.5   \n",
       "1      0.312352   0.027027  1.0   0.500000  0.333333  0.500000    0.4   \n",
       "2      0.886648   0.013514  0.0   0.333333  0.333333  0.111111    0.2   \n",
       "3      0.907085   0.517899  0.0   0.166667  0.666667  0.333333    0.0   \n",
       "4      0.568528   0.054054  1.0   0.333333  0.666667  0.018519    0.2   \n",
       "...         ...        ...  ...        ...       ...       ...    ...   \n",
       "27496  0.199667   0.283784  0.0   0.166667  0.333333  0.444444    0.3   \n",
       "27497  0.254176   0.013514  1.0   0.500000  1.000000  0.500000    0.2   \n",
       "27498  0.669045   0.072319  1.0   0.166667  0.333333  0.370370    0.2   \n",
       "27499  0.770762   0.148649  1.0   0.500000  0.333333  0.351852    0.2   \n",
       "27500  0.421037   0.094595  1.0   0.333333  0.666667  0.111111    0.2   \n",
       "\n",
       "          PAY_2  PAY_3     PAY_4  ...  BILL_AMT3  BILL_AMT4  BILL_AMT5  \\\n",
       "0      0.444444    0.3  0.333333  ...   0.025400   0.224061   0.147841   \n",
       "1      0.444444    0.2  0.222222  ...   0.035564   0.250061   0.180828   \n",
       "2      0.222222    0.2  0.222222  ...   0.030406   0.231111   0.133917   \n",
       "3      0.000000    0.0  0.000000  ...   0.020041   0.212835   0.132883   \n",
       "4      0.222222    0.4  0.222222  ...   0.040454   0.256672   0.190926   \n",
       "...         ...    ...       ...  ...        ...        ...        ...   \n",
       "27496  0.444444    0.2  0.222222  ...   0.112498   0.411566   0.397800   \n",
       "27497  0.222222    0.2  0.222222  ...   0.031195   0.236321   0.163322   \n",
       "27498  0.222222    0.2  0.222222  ...   0.052794   0.280111   0.178504   \n",
       "27499  0.222222    0.2  0.222222  ...   0.061777   0.293218   0.233767   \n",
       "27500  0.222222    0.2  0.222222  ...   0.035027   0.245574   0.180010   \n",
       "\n",
       "       BILL_AMT6  PAY_AMT1  PAY_AMT2  PAY_AMT3  PAY_AMT4  PAY_AMT5  PAY_AMT6  \n",
       "0       0.292310  0.000441  0.000230  0.000120  0.000687  0.000810  0.000796  \n",
       "1       0.320892  0.000000  0.001226  0.004330  0.000325  0.002231  0.002081  \n",
       "2       0.307284  0.001717  0.000769  0.001350  0.001005  0.045866  0.001188  \n",
       "3       0.279362  0.000000  0.000000  0.000000  0.000000  0.000000  0.000017  \n",
       "4       0.282987  0.004236  0.000000  0.001350  0.001143  0.000122  0.001892  \n",
       "...          ...       ...       ...       ...       ...       ...       ...  \n",
       "27496   0.510824  0.000000  0.004512  0.006411  0.009662  0.014067  0.023266  \n",
       "27497   0.305497  0.001497  0.000946  0.000900  0.001127  0.001737  0.001004  \n",
       "27498   0.320146  0.003837  0.001616  0.005574  0.005783  0.005908  0.002014  \n",
       "27499   0.362939  0.003438  0.001676  0.002828  0.002789  0.004117  0.003195  \n",
       "27500   0.319198  0.002491  0.000771  0.001125  0.004831  0.002300  0.003783  \n",
       "\n",
       "[27501 rows x 24 columns]"
      ]
     },
     "execution_count": 68,
     "metadata": {},
     "output_type": "execute_result"
    }
   ],
   "source": [
    "X"
   ]
  },
  {
   "cell_type": "code",
   "execution_count": null,
   "id": "1a9f929b",
   "metadata": {},
   "outputs": [],
   "source": []
  },
  {
   "cell_type": "code",
   "execution_count": 62,
   "id": "2cc7fc8a",
   "metadata": {},
   "outputs": [
    {
     "name": "stderr",
     "output_type": "stream",
     "text": [
      "/var/folders/5d/jfk9yxr101l6s9055y3dfrjh0000gn/T/ipykernel_15870/664457664.py:2: SettingWithCopyWarning: \n",
      "A value is trying to be set on a copy of a slice from a DataFrame.\n",
      "Try using .loc[row_indexer,col_indexer] = value instead\n",
      "\n",
      "See the caveats in the documentation: https://pandas.pydata.org/pandas-docs/stable/user_guide/indexing.html#returning-a-view-versus-a-copy\n",
      "  test_df['default.payment.next.month']=y_test\n"
     ]
    }
   ],
   "source": [
    "test_df=x_test\n",
    "test_df['default.payment.next.month']=y_test"
   ]
  },
  {
   "cell_type": "code",
   "execution_count": 38,
   "id": "d3514dee",
   "metadata": {},
   "outputs": [
    {
     "name": "stderr",
     "output_type": "stream",
     "text": [
      "/var/folders/5d/jfk9yxr101l6s9055y3dfrjh0000gn/T/ipykernel_14473/13436127.py:2: SettingWithCopyWarning: \n",
      "A value is trying to be set on a copy of a slice from a DataFrame.\n",
      "Try using .loc[row_indexer,col_indexer] = value instead\n",
      "\n",
      "See the caveats in the documentation: https://pandas.pydata.org/pandas-docs/stable/user_guide/indexing.html#returning-a-view-versus-a-copy\n",
      "  new_df['default.payment.next.month']=y\n"
     ]
    }
   ],
   "source": [
    "new_df=X\n",
    "new_df['default.payment.next.month']=y"
   ]
  },
  {
   "cell_type": "code",
   "execution_count": 67,
   "id": "910c7cf0",
   "metadata": {},
   "outputs": [],
   "source": [
    "test_df=test_df.sample(frac=1).reset_index(drop=True)\n",
    "new_df=new_df.sample(frac=1).reset_index(drop=True)"
   ]
  },
  {
   "cell_type": "code",
   "execution_count": 64,
   "id": "31c33e4b",
   "metadata": {},
   "outputs": [],
   "source": [
    "test_df['default.payment.next.month'].value_counts()\n",
    "X = new_df.drop('default.payment.next.month',axis=1)\n",
    "y = new_df['default.payment.next.month']\n",
    "\n"
   ]
  },
  {
   "cell_type": "code",
   "execution_count": 65,
   "id": "3b7df312",
   "metadata": {},
   "outputs": [
    {
     "data": {
      "text/plain": [
       "1.0    17460\n",
       "0.0    10041\n",
       "Name: default.payment.next.month, dtype: int64"
      ]
     },
     "execution_count": 65,
     "metadata": {},
     "output_type": "execute_result"
    }
   ],
   "source": [
    "new_df['default.payment.next.month'].value_counts()"
   ]
  },
  {
   "cell_type": "code",
   "execution_count": 66,
   "id": "3d2f5ac2",
   "metadata": {},
   "outputs": [
    {
     "data": {
      "text/html": [
       "<div>\n",
       "<style scoped>\n",
       "    .dataframe tbody tr th:only-of-type {\n",
       "        vertical-align: middle;\n",
       "    }\n",
       "\n",
       "    .dataframe tbody tr th {\n",
       "        vertical-align: top;\n",
       "    }\n",
       "\n",
       "    .dataframe thead th {\n",
       "        text-align: right;\n",
       "    }\n",
       "</style>\n",
       "<table border=\"1\" class=\"dataframe\">\n",
       "  <thead>\n",
       "    <tr style=\"text-align: right;\">\n",
       "      <th></th>\n",
       "      <th>ID</th>\n",
       "      <th>LIMIT_BAL</th>\n",
       "      <th>SEX</th>\n",
       "      <th>EDUCATION</th>\n",
       "      <th>MARRIAGE</th>\n",
       "      <th>AGE</th>\n",
       "      <th>PAY_0</th>\n",
       "      <th>PAY_2</th>\n",
       "      <th>PAY_3</th>\n",
       "      <th>PAY_4</th>\n",
       "      <th>...</th>\n",
       "      <th>BILL_AMT4</th>\n",
       "      <th>BILL_AMT5</th>\n",
       "      <th>BILL_AMT6</th>\n",
       "      <th>PAY_AMT1</th>\n",
       "      <th>PAY_AMT2</th>\n",
       "      <th>PAY_AMT3</th>\n",
       "      <th>PAY_AMT4</th>\n",
       "      <th>PAY_AMT5</th>\n",
       "      <th>PAY_AMT6</th>\n",
       "      <th>default.payment.next.month</th>\n",
       "    </tr>\n",
       "  </thead>\n",
       "  <tbody>\n",
       "    <tr>\n",
       "      <th>0</th>\n",
       "      <td>0.368528</td>\n",
       "      <td>0.000000</td>\n",
       "      <td>0.0</td>\n",
       "      <td>0.166667</td>\n",
       "      <td>0.333333</td>\n",
       "      <td>0.185185</td>\n",
       "      <td>0.5</td>\n",
       "      <td>0.444444</td>\n",
       "      <td>0.3</td>\n",
       "      <td>0.333333</td>\n",
       "      <td>...</td>\n",
       "      <td>0.224061</td>\n",
       "      <td>0.147841</td>\n",
       "      <td>0.292310</td>\n",
       "      <td>0.000441</td>\n",
       "      <td>0.000230</td>\n",
       "      <td>0.000120</td>\n",
       "      <td>0.000687</td>\n",
       "      <td>0.000810</td>\n",
       "      <td>0.000796</td>\n",
       "      <td>1.0</td>\n",
       "    </tr>\n",
       "    <tr>\n",
       "      <th>1</th>\n",
       "      <td>0.312352</td>\n",
       "      <td>0.027027</td>\n",
       "      <td>1.0</td>\n",
       "      <td>0.500000</td>\n",
       "      <td>0.333333</td>\n",
       "      <td>0.500000</td>\n",
       "      <td>0.4</td>\n",
       "      <td>0.444444</td>\n",
       "      <td>0.2</td>\n",
       "      <td>0.222222</td>\n",
       "      <td>...</td>\n",
       "      <td>0.250061</td>\n",
       "      <td>0.180828</td>\n",
       "      <td>0.320892</td>\n",
       "      <td>0.000000</td>\n",
       "      <td>0.001226</td>\n",
       "      <td>0.004330</td>\n",
       "      <td>0.000325</td>\n",
       "      <td>0.002231</td>\n",
       "      <td>0.002081</td>\n",
       "      <td>1.0</td>\n",
       "    </tr>\n",
       "    <tr>\n",
       "      <th>2</th>\n",
       "      <td>0.886648</td>\n",
       "      <td>0.013514</td>\n",
       "      <td>0.0</td>\n",
       "      <td>0.333333</td>\n",
       "      <td>0.333333</td>\n",
       "      <td>0.111111</td>\n",
       "      <td>0.2</td>\n",
       "      <td>0.222222</td>\n",
       "      <td>0.2</td>\n",
       "      <td>0.222222</td>\n",
       "      <td>...</td>\n",
       "      <td>0.231111</td>\n",
       "      <td>0.133917</td>\n",
       "      <td>0.307284</td>\n",
       "      <td>0.001717</td>\n",
       "      <td>0.000769</td>\n",
       "      <td>0.001350</td>\n",
       "      <td>0.001005</td>\n",
       "      <td>0.045866</td>\n",
       "      <td>0.001188</td>\n",
       "      <td>0.0</td>\n",
       "    </tr>\n",
       "    <tr>\n",
       "      <th>3</th>\n",
       "      <td>0.907085</td>\n",
       "      <td>0.517899</td>\n",
       "      <td>0.0</td>\n",
       "      <td>0.166667</td>\n",
       "      <td>0.666667</td>\n",
       "      <td>0.333333</td>\n",
       "      <td>0.0</td>\n",
       "      <td>0.000000</td>\n",
       "      <td>0.0</td>\n",
       "      <td>0.000000</td>\n",
       "      <td>...</td>\n",
       "      <td>0.212835</td>\n",
       "      <td>0.132883</td>\n",
       "      <td>0.279362</td>\n",
       "      <td>0.000000</td>\n",
       "      <td>0.000000</td>\n",
       "      <td>0.000000</td>\n",
       "      <td>0.000000</td>\n",
       "      <td>0.000000</td>\n",
       "      <td>0.000017</td>\n",
       "      <td>1.0</td>\n",
       "    </tr>\n",
       "    <tr>\n",
       "      <th>4</th>\n",
       "      <td>0.568528</td>\n",
       "      <td>0.054054</td>\n",
       "      <td>1.0</td>\n",
       "      <td>0.333333</td>\n",
       "      <td>0.666667</td>\n",
       "      <td>0.018519</td>\n",
       "      <td>0.2</td>\n",
       "      <td>0.222222</td>\n",
       "      <td>0.4</td>\n",
       "      <td>0.222222</td>\n",
       "      <td>...</td>\n",
       "      <td>0.256672</td>\n",
       "      <td>0.190926</td>\n",
       "      <td>0.282987</td>\n",
       "      <td>0.004236</td>\n",
       "      <td>0.000000</td>\n",
       "      <td>0.001350</td>\n",
       "      <td>0.001143</td>\n",
       "      <td>0.000122</td>\n",
       "      <td>0.001892</td>\n",
       "      <td>0.0</td>\n",
       "    </tr>\n",
       "    <tr>\n",
       "      <th>...</th>\n",
       "      <td>...</td>\n",
       "      <td>...</td>\n",
       "      <td>...</td>\n",
       "      <td>...</td>\n",
       "      <td>...</td>\n",
       "      <td>...</td>\n",
       "      <td>...</td>\n",
       "      <td>...</td>\n",
       "      <td>...</td>\n",
       "      <td>...</td>\n",
       "      <td>...</td>\n",
       "      <td>...</td>\n",
       "      <td>...</td>\n",
       "      <td>...</td>\n",
       "      <td>...</td>\n",
       "      <td>...</td>\n",
       "      <td>...</td>\n",
       "      <td>...</td>\n",
       "      <td>...</td>\n",
       "      <td>...</td>\n",
       "      <td>...</td>\n",
       "    </tr>\n",
       "    <tr>\n",
       "      <th>27496</th>\n",
       "      <td>0.199667</td>\n",
       "      <td>0.283784</td>\n",
       "      <td>0.0</td>\n",
       "      <td>0.166667</td>\n",
       "      <td>0.333333</td>\n",
       "      <td>0.444444</td>\n",
       "      <td>0.3</td>\n",
       "      <td>0.444444</td>\n",
       "      <td>0.2</td>\n",
       "      <td>0.222222</td>\n",
       "      <td>...</td>\n",
       "      <td>0.411566</td>\n",
       "      <td>0.397800</td>\n",
       "      <td>0.510824</td>\n",
       "      <td>0.000000</td>\n",
       "      <td>0.004512</td>\n",
       "      <td>0.006411</td>\n",
       "      <td>0.009662</td>\n",
       "      <td>0.014067</td>\n",
       "      <td>0.023266</td>\n",
       "      <td>0.0</td>\n",
       "    </tr>\n",
       "    <tr>\n",
       "      <th>27497</th>\n",
       "      <td>0.254176</td>\n",
       "      <td>0.013514</td>\n",
       "      <td>1.0</td>\n",
       "      <td>0.500000</td>\n",
       "      <td>1.000000</td>\n",
       "      <td>0.500000</td>\n",
       "      <td>0.2</td>\n",
       "      <td>0.222222</td>\n",
       "      <td>0.2</td>\n",
       "      <td>0.222222</td>\n",
       "      <td>...</td>\n",
       "      <td>0.236321</td>\n",
       "      <td>0.163322</td>\n",
       "      <td>0.305497</td>\n",
       "      <td>0.001497</td>\n",
       "      <td>0.000946</td>\n",
       "      <td>0.000900</td>\n",
       "      <td>0.001127</td>\n",
       "      <td>0.001737</td>\n",
       "      <td>0.001004</td>\n",
       "      <td>0.0</td>\n",
       "    </tr>\n",
       "    <tr>\n",
       "      <th>27498</th>\n",
       "      <td>0.669045</td>\n",
       "      <td>0.072319</td>\n",
       "      <td>1.0</td>\n",
       "      <td>0.166667</td>\n",
       "      <td>0.333333</td>\n",
       "      <td>0.370370</td>\n",
       "      <td>0.2</td>\n",
       "      <td>0.222222</td>\n",
       "      <td>0.2</td>\n",
       "      <td>0.222222</td>\n",
       "      <td>...</td>\n",
       "      <td>0.280111</td>\n",
       "      <td>0.178504</td>\n",
       "      <td>0.320146</td>\n",
       "      <td>0.003837</td>\n",
       "      <td>0.001616</td>\n",
       "      <td>0.005574</td>\n",
       "      <td>0.005783</td>\n",
       "      <td>0.005908</td>\n",
       "      <td>0.002014</td>\n",
       "      <td>1.0</td>\n",
       "    </tr>\n",
       "    <tr>\n",
       "      <th>27499</th>\n",
       "      <td>0.770762</td>\n",
       "      <td>0.148649</td>\n",
       "      <td>1.0</td>\n",
       "      <td>0.500000</td>\n",
       "      <td>0.333333</td>\n",
       "      <td>0.351852</td>\n",
       "      <td>0.2</td>\n",
       "      <td>0.222222</td>\n",
       "      <td>0.2</td>\n",
       "      <td>0.222222</td>\n",
       "      <td>...</td>\n",
       "      <td>0.293218</td>\n",
       "      <td>0.233767</td>\n",
       "      <td>0.362939</td>\n",
       "      <td>0.003438</td>\n",
       "      <td>0.001676</td>\n",
       "      <td>0.002828</td>\n",
       "      <td>0.002789</td>\n",
       "      <td>0.004117</td>\n",
       "      <td>0.003195</td>\n",
       "      <td>0.0</td>\n",
       "    </tr>\n",
       "    <tr>\n",
       "      <th>27500</th>\n",
       "      <td>0.421037</td>\n",
       "      <td>0.094595</td>\n",
       "      <td>1.0</td>\n",
       "      <td>0.333333</td>\n",
       "      <td>0.666667</td>\n",
       "      <td>0.111111</td>\n",
       "      <td>0.2</td>\n",
       "      <td>0.222222</td>\n",
       "      <td>0.2</td>\n",
       "      <td>0.222222</td>\n",
       "      <td>...</td>\n",
       "      <td>0.245574</td>\n",
       "      <td>0.180010</td>\n",
       "      <td>0.319198</td>\n",
       "      <td>0.002491</td>\n",
       "      <td>0.000771</td>\n",
       "      <td>0.001125</td>\n",
       "      <td>0.004831</td>\n",
       "      <td>0.002300</td>\n",
       "      <td>0.003783</td>\n",
       "      <td>0.0</td>\n",
       "    </tr>\n",
       "  </tbody>\n",
       "</table>\n",
       "<p>27501 rows × 25 columns</p>\n",
       "</div>"
      ],
      "text/plain": [
       "             ID  LIMIT_BAL  SEX  EDUCATION  MARRIAGE       AGE  PAY_0  \\\n",
       "0      0.368528   0.000000  0.0   0.166667  0.333333  0.185185    0.5   \n",
       "1      0.312352   0.027027  1.0   0.500000  0.333333  0.500000    0.4   \n",
       "2      0.886648   0.013514  0.0   0.333333  0.333333  0.111111    0.2   \n",
       "3      0.907085   0.517899  0.0   0.166667  0.666667  0.333333    0.0   \n",
       "4      0.568528   0.054054  1.0   0.333333  0.666667  0.018519    0.2   \n",
       "...         ...        ...  ...        ...       ...       ...    ...   \n",
       "27496  0.199667   0.283784  0.0   0.166667  0.333333  0.444444    0.3   \n",
       "27497  0.254176   0.013514  1.0   0.500000  1.000000  0.500000    0.2   \n",
       "27498  0.669045   0.072319  1.0   0.166667  0.333333  0.370370    0.2   \n",
       "27499  0.770762   0.148649  1.0   0.500000  0.333333  0.351852    0.2   \n",
       "27500  0.421037   0.094595  1.0   0.333333  0.666667  0.111111    0.2   \n",
       "\n",
       "          PAY_2  PAY_3     PAY_4  ...  BILL_AMT4  BILL_AMT5  BILL_AMT6  \\\n",
       "0      0.444444    0.3  0.333333  ...   0.224061   0.147841   0.292310   \n",
       "1      0.444444    0.2  0.222222  ...   0.250061   0.180828   0.320892   \n",
       "2      0.222222    0.2  0.222222  ...   0.231111   0.133917   0.307284   \n",
       "3      0.000000    0.0  0.000000  ...   0.212835   0.132883   0.279362   \n",
       "4      0.222222    0.4  0.222222  ...   0.256672   0.190926   0.282987   \n",
       "...         ...    ...       ...  ...        ...        ...        ...   \n",
       "27496  0.444444    0.2  0.222222  ...   0.411566   0.397800   0.510824   \n",
       "27497  0.222222    0.2  0.222222  ...   0.236321   0.163322   0.305497   \n",
       "27498  0.222222    0.2  0.222222  ...   0.280111   0.178504   0.320146   \n",
       "27499  0.222222    0.2  0.222222  ...   0.293218   0.233767   0.362939   \n",
       "27500  0.222222    0.2  0.222222  ...   0.245574   0.180010   0.319198   \n",
       "\n",
       "       PAY_AMT1  PAY_AMT2  PAY_AMT3  PAY_AMT4  PAY_AMT5  PAY_AMT6  \\\n",
       "0      0.000441  0.000230  0.000120  0.000687  0.000810  0.000796   \n",
       "1      0.000000  0.001226  0.004330  0.000325  0.002231  0.002081   \n",
       "2      0.001717  0.000769  0.001350  0.001005  0.045866  0.001188   \n",
       "3      0.000000  0.000000  0.000000  0.000000  0.000000  0.000017   \n",
       "4      0.004236  0.000000  0.001350  0.001143  0.000122  0.001892   \n",
       "...         ...       ...       ...       ...       ...       ...   \n",
       "27496  0.000000  0.004512  0.006411  0.009662  0.014067  0.023266   \n",
       "27497  0.001497  0.000946  0.000900  0.001127  0.001737  0.001004   \n",
       "27498  0.003837  0.001616  0.005574  0.005783  0.005908  0.002014   \n",
       "27499  0.003438  0.001676  0.002828  0.002789  0.004117  0.003195   \n",
       "27500  0.002491  0.000771  0.001125  0.004831  0.002300  0.003783   \n",
       "\n",
       "       default.payment.next.month  \n",
       "0                             1.0  \n",
       "1                             1.0  \n",
       "2                             0.0  \n",
       "3                             1.0  \n",
       "4                             0.0  \n",
       "...                           ...  \n",
       "27496                         0.0  \n",
       "27497                         0.0  \n",
       "27498                         1.0  \n",
       "27499                         0.0  \n",
       "27500                         0.0  \n",
       "\n",
       "[27501 rows x 25 columns]"
      ]
     },
     "execution_count": 66,
     "metadata": {},
     "output_type": "execute_result"
    }
   ],
   "source": [
    "new_df"
   ]
  },
  {
   "cell_type": "code",
   "execution_count": 43,
   "id": "32d568c2",
   "metadata": {},
   "outputs": [],
   "source": [
    "X_test = test_df.drop('default.payment.next.month',axis=1)\n",
    "y_test = test_df['default.payment.next.month']"
   ]
  },
  {
   "cell_type": "code",
   "execution_count": 44,
   "id": "2a1c2f3e",
   "metadata": {},
   "outputs": [],
   "source": [
    "from sklearn.linear_model import LogisticRegression\n",
    "from sklearn.metrics import accuracy_score,confusion_matrix,recall_score,precision_score,f1_score \n",
    "from sklearn.model_selection import KFold\n",
    "from sklearn.model_selection import cross_val_score\n",
    "from sklearn.model_selection import GridSearchCV, cross_val_score\n",
    "from sklearn.pipeline import make_pipeline, Pipeline\n",
    "from sklearn.preprocessing import StandardScaler"
   ]
  },
  {
   "cell_type": "code",
   "execution_count": 45,
   "id": "50cc6c5e",
   "metadata": {},
   "outputs": [],
   "source": [
    "n_splits=10\n",
    "kf=KFold(n_splits=n_splits, random_state=None)\n"
   ]
  },
  {
   "cell_type": "code",
   "execution_count": 46,
   "id": "7ff2a94c",
   "metadata": {},
   "outputs": [],
   "source": [
    "def k_fold_cross_validated_score(model,X,y):\n",
    "    best_model=''\n",
    "    best_accuracy=0\n",
    "    average_accuracy=0\n",
    "    scores=cross_val_score(model, X, y, cv=10 )\n",
    "    best_accuracy=scores.max()\n",
    "    average_accuracy=scores.mean()\n",
    "    return best_model, best_accuracy, average_accuracy\n",
    "\n"
   ]
  },
  {
   "cell_type": "markdown",
   "id": "7b4f9587",
   "metadata": {},
   "source": [
    "# Logistic Regression"
   ]
  },
  {
   "cell_type": "code",
   "execution_count": 47,
   "id": "d6aa71e0",
   "metadata": {},
   "outputs": [],
   "source": [
    "\n",
    "model=LogisticRegression()"
   ]
  },
  {
   "cell_type": "code",
   "execution_count": 48,
   "id": "e7d124f3",
   "metadata": {},
   "outputs": [
    {
     "data": {
      "text/plain": [
       "('', 0.6836363636363636, 0.6779999999999999)"
      ]
     },
     "execution_count": 48,
     "metadata": {},
     "output_type": "execute_result"
    }
   ],
   "source": [
    "k_fold_cross_validated_score(model, X, y)"
   ]
  },
  {
   "cell_type": "code",
   "execution_count": 49,
   "id": "31a9288d",
   "metadata": {},
   "outputs": [],
   "source": [
    "def k_fold_cross_validated_result(model):\n",
    "    best_model=''\n",
    "    best_accuracy=0\n",
    "    average_accuracy=0\n",
    "    acc_score=[]\n",
    "    \n",
    "    for train_index, test_index in kf.split(X):\n",
    "        x_train, x_heldout=X.iloc[train_index, : ], X.iloc[test_index, :]\n",
    "        y_train, y_heldout=y[train_index], y[test_index]\n",
    "        model.fit(x_train, y_train)\n",
    "        pred_values = model.predict(x_heldout)\n",
    "        \n",
    "        acc = accuracy_score(pred_values, y_heldout)\n",
    "        if acc > best_accuracy:\n",
    "            best_accuracy=acc\n",
    "            best_model=model\n",
    "        acc_score.append(acc)\n",
    "    average_accuracy=sum(acc_score)/len(acc_score)\n",
    "\n",
    "    return best_model, best_accuracy, average_accuracy\n",
    "\n",
    "\n",
    "\n"
   ]
  },
  {
   "cell_type": "code",
   "execution_count": 50,
   "id": "4111a069",
   "metadata": {},
   "outputs": [
    {
     "name": "stdout",
     "output_type": "stream",
     "text": [
      "Model : LogisticRegression(), best Accuracy : 0.6877272727272727, Average Accuracy : 0.678\n"
     ]
    }
   ],
   "source": [
    "\n",
    "m, best_acc, avg_acc=k_fold_cross_validated_result(model)\n",
    "\n",
    "print('Model : {0}, best Accuracy : {1}, Average Accuracy : {2}'.format(m, best_acc, avg_acc))\n"
   ]
  },
  {
   "cell_type": "code",
   "execution_count": 51,
   "id": "ea7e5f2c",
   "metadata": {},
   "outputs": [
    {
     "name": "stdout",
     "output_type": "stream",
     "text": [
      "training average accuracy: 0.678, training best accuracy: 0.6877272727272727,  test accuracy : 0.6720596255226322 \n"
     ]
    }
   ],
   "source": [
    "y_pred=model.predict(X_test)\n",
    "accuracy=accuracy_score(y_pred, y_test)\n",
    "print (\"training average accuracy: {0}, training best accuracy: {1},  test accuracy : {2} \".format( avg_acc, best_acc, accuracy))"
   ]
  },
  {
   "cell_type": "code",
   "execution_count": 52,
   "id": "b25a2c49",
   "metadata": {},
   "outputs": [],
   "source": [
    "false_positive_rate, true_positive_rate, thresholds = roc_curve(y_pred, y_test)\n",
    "roc_auc = auc(false_positive_rate, true_positive_rate)\n",
    "roc_auc\n",
    "item ={'model':'Logistic Regression',\n",
    "'false_positive_rate':false_positive_rate, \n",
    "'true_positive_rate':true_positive_rate, \n",
    "'roc_auc':roc_auc,\n",
    "'best_train_accuracy':best_acc, \n",
    "'average_train_accuracy':avg_acc,\n",
    "'test_accuracy':accuracy \n",
    "}\n",
    "summary_result.append(item)"
   ]
  },
  {
   "cell_type": "markdown",
   "id": "e4314ec1",
   "metadata": {},
   "source": [
    "# Linear Perceptron"
   ]
  },
  {
   "cell_type": "code",
   "execution_count": 53,
   "id": "d83800f0",
   "metadata": {},
   "outputs": [],
   "source": [
    "from sklearn.linear_model import Perceptron"
   ]
  },
  {
   "cell_type": "code",
   "execution_count": 54,
   "id": "7cd7976c",
   "metadata": {},
   "outputs": [],
   "source": [
    "model=Perceptron()\n",
    "\n"
   ]
  },
  {
   "cell_type": "code",
   "execution_count": 55,
   "id": "d17b2001",
   "metadata": {},
   "outputs": [],
   "source": [
    "m, best_acc, avg_acc= k_fold_cross_validated_result(model)"
   ]
  },
  {
   "cell_type": "code",
   "execution_count": 56,
   "id": "a5775313",
   "metadata": {},
   "outputs": [
    {
     "name": "stdout",
     "output_type": "stream",
     "text": [
      "training average accuracy: 0.6609090909090909, training best accuracy: 0.6913636363636364,  test accuracy : 0.6406107980367206 \n"
     ]
    }
   ],
   "source": [
    "y_pred=model.predict(X_test)\n",
    "accuracy=accuracy_score(y_pred, y_test)\n",
    "print (\"training average accuracy: {0}, training best accuracy: {1},  test accuracy : {2} \".format( avg_acc, best_acc, accuracy))"
   ]
  },
  {
   "cell_type": "code",
   "execution_count": 57,
   "id": "2c60659d",
   "metadata": {},
   "outputs": [],
   "source": [
    "false_positive_rate, true_positive_rate, thresholds = roc_curve(y_pred, y_test)\n",
    "roc_auc = auc(false_positive_rate, true_positive_rate)\n",
    "roc_auc\n",
    "item ={'model':'Linear Perceptron',\n",
    "'false_positive_rate':false_positive_rate, \n",
    "'true_positive_rate':true_positive_rate, \n",
    "'roc_auc':roc_auc,\n",
    "'best_train_accuracy':best_acc, \n",
    "'average_train_accuracy':avg_acc,\n",
    "'test_accuracy':accuracy \n",
    " }\n",
    "summary_result.append(item)"
   ]
  },
  {
   "cell_type": "markdown",
   "id": "7b0ee852",
   "metadata": {},
   "source": [
    "# Support Vector Machine"
   ]
  },
  {
   "cell_type": "code",
   "execution_count": 58,
   "id": "43abb888",
   "metadata": {},
   "outputs": [],
   "source": [
    "from sklearn.svm import SVC "
   ]
  },
  {
   "cell_type": "code",
   "execution_count": 59,
   "id": "b7060df9",
   "metadata": {},
   "outputs": [],
   "source": [
    "X_train_support,X_test_support,y_train_support,y_test_support = train_test_split(X,y,train_size=0.85,random_state=1)"
   ]
  },
  {
   "cell_type": "code",
   "execution_count": 62,
   "id": "0978065f",
   "metadata": {},
   "outputs": [
    {
     "name": "stdout",
     "output_type": "stream",
     "text": [
      "C: 0.01, accuracy : 0.6596969696969697\n",
      "C: 0.1, accuracy : 0.6781818181818182\n",
      "C: 1, accuracy : 0.6772727272727272\n",
      "C: 2, accuracy : 0.6763636363636364\n",
      "C: 3, accuracy : 0.6763636363636364\n",
      "C: 5, accuracy : 0.6757575757575758\n"
     ]
    }
   ],
   "source": [
    "    c = [0.01, 0.1, 1, 2, 3, 5]\n",
    "    for cost_c in c:\n",
    "        model=SVC(C=cost_c, kernel='linear')\n",
    "        model.fit(X_train_support,y_train_support)\n",
    "        y_pred=model.predict(X_test_support)\n",
    "        print(\"C: {0}, accuracy : {1}\".format(cost_c, accuracy_score(y_pred, y_test_support)))"
   ]
  },
  {
   "cell_type": "code",
   "execution_count": 63,
   "id": "ecd2929d",
   "metadata": {},
   "outputs": [
    {
     "name": "stdout",
     "output_type": "stream",
     "text": [
      "kernel : linear, C: 0.01, a: 0.6596969696969697\n",
      "kernel : linear, C: 0.1, a: 0.6781818181818182\n",
      "kernel : linear, C: 1, a: 0.6772727272727272\n",
      "kernel : linear, C: 2, a: 0.6763636363636364\n",
      "kernel : linear, C: 3, a: 0.6763636363636364\n",
      "kernel : linear, C: 5, a: 0.6757575757575758\n",
      "kernel : poly, C: 0.01, a: 0.7015151515151515\n",
      "kernel : poly, C: 0.1, a: 0.6639393939393939\n",
      "kernel : poly, C: 1, a: 0.6572727272727272\n",
      "kernel : poly, C: 2, a: 0.6603030303030303\n",
      "kernel : poly, C: 3, a: 0.656969696969697\n",
      "kernel : poly, C: 5, a: 0.6612121212121213\n",
      "kernel : rbf, C: 0.01, a: 0.6712121212121213\n",
      "kernel : rbf, C: 0.1, a: 0.6833333333333333\n",
      "kernel : rbf, C: 1, a: 0.7263636363636363\n",
      "kernel : rbf, C: 2, a: 0.7269696969696969\n",
      "kernel : rbf, C: 3, a: 0.7245454545454545\n",
      "kernel : rbf, C: 5, a: 0.7306060606060606\n"
     ]
    }
   ],
   "source": [
    "    c = [0.01, 0.1, 1, 2, 3, 5]\n",
    "    kernel_func=['linear', 'poly', 'rbf']\n",
    "\n",
    "    for k in kernel_func:\n",
    "        for cost_c in c:\n",
    "            model=SVC(C=cost_c, kernel=k)\n",
    "            model.fit(X_train_support,y_train_support)\n",
    "            y_pred=model.predict(X_test_support)\n",
    "            print(\"kernel : {0}, C: {1}, a: {2}\".format(k, cost_c, accuracy_score(y_pred,y_test_support)))"
   ]
  },
  {
   "cell_type": "code",
   "execution_count": 64,
   "id": "81195d10",
   "metadata": {},
   "outputs": [
    {
     "name": "stdout",
     "output_type": "stream",
     "text": [
      "0.7427272727272727\n"
     ]
    }
   ],
   "source": [
    "model=SVC(C=2, kernel='rbf')\n",
    "\n",
    "\n",
    "m, best_acc, avg_acc=k_fold_cross_validated_result(model)\n",
    "print(best_acc)\n"
   ]
  },
  {
   "cell_type": "code",
   "execution_count": 65,
   "id": "f43001b4",
   "metadata": {},
   "outputs": [
    {
     "name": "stdout",
     "output_type": "stream",
     "text": [
      "training average accuracy: 0.7297272727272728, training best accuracy: 0.7427272727272727,  test accuracy : 0.7305944373750227 \n"
     ]
    }
   ],
   "source": [
    "y_pred=model.predict(X_test)\n",
    "accuracy=accuracy_score(y_pred, y_test)\n",
    "print (\"training average accuracy: {0}, training best accuracy: {1},  test accuracy : {2} \".format( avg_acc, best_acc, accuracy))"
   ]
  },
  {
   "cell_type": "code",
   "execution_count": 66,
   "id": "c00ea6c5",
   "metadata": {},
   "outputs": [],
   "source": [
    "false_positive_rate, true_positive_rate, thresholds = roc_curve(y_pred, y_test)\n",
    "roc_auc = auc(false_positive_rate, true_positive_rate)\n",
    "roc_auc\n",
    "item ={'model':'Support Vector machine',\n",
    "'false_positive_rate':false_positive_rate, \n",
    "'true_positive_rate':true_positive_rate, \n",
    "'roc_auc':roc_auc,\n",
    "'best_train_accuracy':best_acc, \n",
    "'average_train_accuracy':avg_acc,\n",
    "'test_accuracy':accuracy  }\n",
    "summary_result.append(item)"
   ]
  },
  {
   "cell_type": "markdown",
   "id": "5a90484c",
   "metadata": {},
   "source": [
    "# Decision Tree"
   ]
  },
  {
   "cell_type": "code",
   "execution_count": 153,
   "id": "89dcf79e",
   "metadata": {},
   "outputs": [],
   "source": [
    "from sklearn import tree"
   ]
  },
  {
   "cell_type": "code",
   "execution_count": 154,
   "id": "30d97118",
   "metadata": {},
   "outputs": [],
   "source": [
    "clf = tree.DecisionTreeClassifier(random_state=0)\n",
    "path = clf.cost_complexity_pruning_path(X_train_support, y_train_support)\n",
    "ccp_alphas, impurities = path.ccp_alphas, path.impurities"
   ]
  },
  {
   "cell_type": "code",
   "execution_count": 155,
   "id": "a0bc4fcb",
   "metadata": {},
   "outputs": [
    {
     "data": {
      "text/plain": [
       "Text(0.5, 1.0, 'Total Impurity vs effective alpha for training set')"
      ]
     },
     "execution_count": 155,
     "metadata": {},
     "output_type": "execute_result"
    },
    {
     "data": {
      "image/png": "[encoded data removed]",
      "text/plain": [
       "<Figure size 432x288 with 1 Axes>"
      ]
     },
     "metadata": {
      "needs_background": "light"
     },
     "output_type": "display_data"
    }
   ],
   "source": [
    "fig, ax = plt.subplots()\n",
    "ax.plot(ccp_alphas[:-1], impurities[:-1], marker=\"o\", drawstyle=\"steps-post\")\n",
    "ax.set_xlabel(\"effective alpha\")\n",
    "ax.set_ylabel(\"total impurity of leaves\")\n",
    "ax.set_title(\"Total Impurity vs effective alpha for training set\")"
   ]
  },
  {
   "cell_type": "code",
   "execution_count": 156,
   "id": "ec0a2ae4",
   "metadata": {},
   "outputs": [
    {
     "name": "stdout",
     "output_type": "stream",
     "text": [
      "Number of nodes in the last tree is: 1 with ccp_alpha: 0.36302459486079997\n"
     ]
    }
   ],
   "source": [
    "clfs = []\n",
    "for ccp_alpha in ccp_alphas:\n",
    "    clf = tree.DecisionTreeClassifier(random_state=0, ccp_alpha=ccp_alpha)\n",
    "    clf.fit(X_train_support, y_train_support)\n",
    "    clfs.append(clf)\n",
    "print(\n",
    "    \"Number of nodes in the last tree is: {} with ccp_alpha: {}\".format(\n",
    "        clfs[-1].tree_.node_count, ccp_alphas[-1]\n",
    "    )\n",
    ")"
   ]
  },
  {
   "cell_type": "code",
   "execution_count": 157,
   "id": "0ec45adb",
   "metadata": {},
   "outputs": [
    {
     "data": {
      "image/png": "[encoded data removed]",
      "text/plain": [
       "<Figure size 432x288 with 2 Axes>"
      ]
     },
     "metadata": {
      "needs_background": "light"
     },
     "output_type": "display_data"
    }
   ],
   "source": [
    "clfs = clfs[:-1]\n",
    "ccp_alphas = ccp_alphas[:-1]\n",
    "\n",
    "node_counts = [clf.tree_.node_count for clf in clfs]\n",
    "depth = [clf.tree_.max_depth for clf in clfs]\n",
    "fig, ax = plt.subplots(2, 1)\n",
    "ax[0].plot(ccp_alphas, node_counts, marker=\"o\", drawstyle=\"steps-post\")\n",
    "ax[0].set_xlabel(\"alpha\")\n",
    "ax[0].set_ylabel(\"number of nodes\")\n",
    "ax[0].set_title(\"Number of nodes vs alpha\")\n",
    "ax[1].plot(ccp_alphas, depth, marker=\"o\", drawstyle=\"steps-post\")\n",
    "ax[1].set_xlabel(\"alpha\")\n",
    "ax[1].set_ylabel(\"depth of tree\")\n",
    "ax[1].set_title(\"Depth vs alpha\")\n",
    "fig.tight_layout()"
   ]
  },
  {
   "cell_type": "code",
   "execution_count": 158,
   "id": "5b7dfb95",
   "metadata": {},
   "outputs": [
    {
     "data": {
      "image/png": "[encoded data removed]",
      "text/plain": [
       "<Figure size 432x288 with 1 Axes>"
      ]
     },
     "metadata": {
      "needs_background": "light"
     },
     "output_type": "display_data"
    }
   ],
   "source": [
    "train_scores = [clf.score(X_train_support, y_train_support) for clf in clfs]\n",
    "test_scores = [clf.score(X_test_support, y_test_support) for clf in clfs]\n",
    "\n",
    "fig, ax = plt.subplots()\n",
    "ax.set_xlabel(\"alpha\")\n",
    "ax.set_ylabel(\"accuracy\")\n",
    "ax.set_title(\"Accuracy vs alpha for training and heldout data set\")\n",
    "ax.plot(ccp_alphas, train_scores, marker=\"o\", label=\"train\", drawstyle=\"steps-post\")\n",
    "ax.plot(ccp_alphas, test_scores, marker=\"o\", label=\"held out\", drawstyle=\"steps-post\")\n",
    "ax.legend()\n",
    "plt.show()"
   ]
  },
  {
   "cell_type": "code",
   "execution_count": 159,
   "id": "0098481e",
   "metadata": {},
   "outputs": [
    {
     "name": "stdout",
     "output_type": "stream",
     "text": [
      "Training accuracy of best model:  0.9942868802285247\n",
      "Test accuracy of best model:  0.9641618497109826\n"
     ]
    }
   ],
   "source": [
    "index_best_model = np.argmax(test_scores)\n",
    "best_model = clfs[index_best_model]\n",
    "print('Training accuracy of best model: ',best_model.score(X_train_support, y_train_support))\n",
    "print('Test accuracy of best model: ',best_model.score(X_test_support, y_test_support))"
   ]
  },
  {
   "cell_type": "code",
   "execution_count": 160,
   "id": "59a0fd1b",
   "metadata": {},
   "outputs": [
    {
     "name": "stdout",
     "output_type": "stream",
     "text": [
      "0.9774696707105719\n",
      "0.0002244439910222404\n"
     ]
    }
   ],
   "source": [
    "model=best_model\n",
    "m, best_acc, avg_acc=k_fold_cross_validated_result(model)\n",
    "print(best_acc)\n",
    "print(model.ccp_alpha)"
   ]
  },
  {
   "cell_type": "code",
   "execution_count": 161,
   "id": "c27bef49",
   "metadata": {},
   "outputs": [
    {
     "name": "stdout",
     "output_type": "stream",
     "text": [
      "training average accuracy: 0.9604575871365298, training best accuracy: 0.9774696707105719,  test accuracy : 0.949375866851595 \n"
     ]
    }
   ],
   "source": [
    "y_pred=model.predict(X_test)\n",
    "accuracy=accuracy_score(y_pred, y_test)\n",
    "print (\"training average accuracy: {0}, training best accuracy: {1},  test accuracy : {2} \".format( avg_acc, best_acc, accuracy))"
   ]
  },
  {
   "cell_type": "code",
   "execution_count": 162,
   "id": "35c9b8f5",
   "metadata": {},
   "outputs": [],
   "source": [
    "false_positive_rate, true_positive_rate, thresholds = roc_curve(y_pred, y_test)\n",
    "roc_auc = auc(false_positive_rate, true_positive_rate)\n",
    "roc_auc\n",
    "item ={'model':'Decision Tree',\n",
    "'false_positive_rate':false_positive_rate, \n",
    "'true_positive_rate':true_positive_rate, \n",
    "'roc_auc':roc_auc,\n",
    "'best_train_accuracy':best_acc, \n",
    "'average_train_accuracy':avg_acc,\n",
    "'test_accuracy':accuracy  }\n",
    "summary_result.append(item)"
   ]
  },
  {
   "cell_type": "markdown",
   "id": "13eacb65",
   "metadata": {},
   "source": [
    "# Random Forest"
   ]
  },
  {
   "cell_type": "code",
   "execution_count": 163,
   "id": "9d0a8585",
   "metadata": {},
   "outputs": [],
   "source": [
    "from sklearn.ensemble import RandomForestClassifier"
   ]
  },
  {
   "cell_type": "code",
   "execution_count": 164,
   "id": "156dd685",
   "metadata": {},
   "outputs": [
    {
     "name": "stdout",
     "output_type": "stream",
     "text": [
      "n_estmtrs: 1, depth : 1, error: 0.1907514450867052 : \n",
      "n_estmtrs: 1, depth : 2, error: 0.16878612716763006 : \n",
      "n_estmtrs: 1, depth : 3, error: 0.05086705202312139 : \n",
      "n_estmtrs: 1, depth : 9, error: 0.04277456647398844 : \n",
      "n_estmtrs: 6, depth : 7, error: 0.03815028901734104 : \n",
      "n_estmtrs: 6, depth : 8, error: 0.03005780346820809 : \n",
      "n_estmtrs: 31, depth : 8, error: 0.03005780346820809 : \n",
      "n_estmtrs: 51, depth : 9, error: 0.03005780346820809 : \n",
      "n_estmtrs: 61, depth : 9, error: 0.03005780346820809 : \n",
      "0.03005780346820809\n"
     ]
    }
   ],
   "source": [
    "min_error=1\n",
    "error_rate = []\n",
    "for n_estmtrs in range(1,70,5):\n",
    "    for dep in range(1,10):\n",
    "        rf = RandomForestClassifier(n_estimators=n_estmtrs, max_depth=dep)\n",
    "        rf.fit(X_train_support,y_train_support)\n",
    "        pred_i = rf.predict(X_test_support)\n",
    "        error=np.mean(pred_i != y_test_support)\n",
    "        error_rate.append(error)\n",
    "        if min_error> error:\n",
    "            min_error=error\n",
    "\n",
    "        if error == min_error :\n",
    "            print(\"n_estmtrs: {0}, depth : {1}, error: {2} : \".format(n_estmtrs, dep, min_error))\n",
    "\n",
    "print(min_error)"
   ]
  },
  {
   "cell_type": "code",
   "execution_count": 165,
   "id": "1caeee17",
   "metadata": {},
   "outputs": [
    {
     "data": {
      "text/plain": [
       "Text(0, 0.5, 'Error Rate')"
      ]
     },
     "execution_count": 165,
     "metadata": {},
     "output_type": "execute_result"
    },
    {
     "data": {
      "image/png": "[encoded data removed]",
      "text/plain": [
       "<Figure size 720x432 with 1 Axes>"
      ]
     },
     "metadata": {
      "needs_background": "light"
     },
     "output_type": "display_data"
    }
   ],
   "source": [
    "plt.figure(figsize=(10,6))\n",
    "plt.plot(range(1,127),error_rate,color='blue', linestyle='dashed', marker='o', markerfacecolor='red', markersize=10)\n",
    "plt.title('Error Rate vs. K Value')\n",
    "plt.xlabel('K')\n",
    "plt.ylabel('Error Rate')"
   ]
  },
  {
   "cell_type": "code",
   "execution_count": 166,
   "id": "74a2aa9d",
   "metadata": {},
   "outputs": [],
   "source": [
    "model=RandomForestClassifier(n_estimators=18, max_depth=8)\n",
    "m, best_acc, avg_acc=k_fold_cross_validated_result(model)\n"
   ]
  },
  {
   "cell_type": "code",
   "execution_count": 167,
   "id": "e25bca0b",
   "metadata": {},
   "outputs": [
    {
     "name": "stdout",
     "output_type": "stream",
     "text": [
      "training average accuracy: 0.9580303413248604, training best accuracy: 0.9705372616984402,  test accuracy : 0.9549237170596394 \n"
     ]
    }
   ],
   "source": [
    "y_pred=model.predict(X_test)\n",
    "accuracy=accuracy_score(y_pred, y_test)\n",
    "print (\"training average accuracy: {0}, training best accuracy: {1},  test accuracy : {2} \".format( avg_acc, best_acc, accuracy))"
   ]
  },
  {
   "cell_type": "code",
   "execution_count": 168,
   "id": "1ab87064",
   "metadata": {},
   "outputs": [],
   "source": [
    "false_positive_rate, true_positive_rate, thresholds = roc_curve(y_pred, y_test)\n",
    "roc_auc = auc(false_positive_rate, true_positive_rate)\n",
    "roc_auc\n",
    "item ={'model':'Random Forest',\n",
    "'false_positive_rate':false_positive_rate, \n",
    "'true_positive_rate':true_positive_rate, \n",
    "'roc_auc':roc_auc,\n",
    "'best_train_accuracy':best_acc, \n",
    "'average_train_accuracy':avg_acc,\n",
    "'test_accuracy':accuracy  }\n",
    "summary_result.append(item)"
   ]
  },
  {
   "cell_type": "markdown",
   "id": "b844ddcc",
   "metadata": {},
   "source": [
    "# K nearest neighbours"
   ]
  },
  {
   "cell_type": "code",
   "execution_count": 169,
   "id": "bcbfd07c",
   "metadata": {},
   "outputs": [],
   "source": [
    "from sklearn.neighbors import KNeighborsClassifier\n"
   ]
  },
  {
   "cell_type": "code",
   "execution_count": 170,
   "id": "b4c1f4c8",
   "metadata": {},
   "outputs": [],
   "source": [
    "error_rate = []\n",
    "for i in range(1,40):\n",
    "    knn = KNeighborsClassifier(n_neighbors=i)\n",
    "    knn.fit(X_train_support,y_train_support)\n",
    "    pred_i = knn.predict(X_test_support)\n",
    "    error_rate.append(np.mean(pred_i != y_test_support))"
   ]
  },
  {
   "cell_type": "code",
   "execution_count": 171,
   "id": "595e92b8",
   "metadata": {},
   "outputs": [
    {
     "data": {
      "text/plain": [
       "Text(0, 0.5, 'Error Rate')"
      ]
     },
     "execution_count": 171,
     "metadata": {},
     "output_type": "execute_result"
    },
    {
     "data": {
      "image/png": "[encoded data removed]",
      "text/plain": [
       "<Figure size 720x432 with 1 Axes>"
      ]
     },
     "metadata": {
      "needs_background": "light"
     },
     "output_type": "display_data"
    }
   ],
   "source": [
    "plt.figure(figsize=(10,6))\n",
    "plt.plot(range(1,40),error_rate,color='blue', linestyle='dashed', marker='o', markerfacecolor='red', markersize=10)\n",
    "plt.title('Error Rate vs. K Value')\n",
    "plt.xlabel('K')\n",
    "plt.ylabel('Error Rate')"
   ]
  },
  {
   "cell_type": "code",
   "execution_count": 172,
   "id": "9a37f291",
   "metadata": {},
   "outputs": [
    {
     "name": "stdout",
     "output_type": "stream",
     "text": [
      "0.9670138888888888\n",
      "training average accuracy: 0.9547374470440978, training best accuracy: 0.9670138888888888,  test accuracy : 0.9535367545076283 \n"
     ]
    }
   ],
   "source": [
    "\n",
    "model=KNeighborsClassifier(n_neighbors=4)\n",
    "m, best_acc, avg_acc=k_fold_cross_validated_result(model)\n",
    "print(best_acc)\n",
    "y_pred=model.predict(X_test)\n",
    "accuracy=accuracy_score(y_pred, y_test)\n",
    "print (\"training average accuracy: {0}, training best accuracy: {1},  test accuracy : {2} \".format( avg_acc, best_acc, accuracy))"
   ]
  },
  {
   "cell_type": "code",
   "execution_count": 173,
   "id": "8a120f04",
   "metadata": {},
   "outputs": [],
   "source": [
    "false_positive_rate, true_positive_rate, thresholds = roc_curve(y_pred, y_test)\n",
    "roc_auc = auc(false_positive_rate, true_positive_rate)\n",
    "roc_auc\n",
    "item ={'model':'Knn',\n",
    "'false_positive_rate':false_positive_rate, \n",
    "'true_positive_rate':true_positive_rate, \n",
    "'roc_auc':roc_auc,\n",
    "'best_train_accuracy':best_acc, \n",
    "'average_train_accuracy':avg_acc,\n",
    "'test_accuracy':accuracy  }\n",
    "summary_result.append(item)"
   ]
  },
  {
   "cell_type": "markdown",
   "id": "9c96ca1f",
   "metadata": {},
   "source": [
    "# Naive Bayes"
   ]
  },
  {
   "cell_type": "code",
   "execution_count": 174,
   "id": "4c15ee18",
   "metadata": {},
   "outputs": [
    {
     "name": "stdout",
     "output_type": "stream",
     "text": [
      "0.925476603119584\n",
      "training average accuracy: 0.9087723257269401, training best accuracy: 0.925476603119584,  test accuracy : 0.9237170596393898 \n"
     ]
    }
   ],
   "source": [
    "from sklearn.naive_bayes import GaussianNB\n",
    "\n",
    "model=GaussianNB()\n",
    "m, best_acc, avg_acc=k_fold_cross_validated_result(model)\n",
    "print(best_acc)\n",
    "y_pred=model.predict(X_test)\n",
    "accuracy=accuracy_score(y_pred, y_test)\n",
    "print (\"training average accuracy: {0}, training best accuracy: {1},  test accuracy : {2} \".format( avg_acc, best_acc, accuracy))"
   ]
  },
  {
   "cell_type": "code",
   "execution_count": 175,
   "id": "7cfc9a46",
   "metadata": {},
   "outputs": [],
   "source": [
    "false_positive_rate, true_positive_rate, thresholds = roc_curve(y_pred, y_test)\n",
    "roc_auc = auc(false_positive_rate, true_positive_rate)\n",
    "roc_auc\n",
    "item ={'model':'Naive Bayes',\n",
    "'false_positive_rate':false_positive_rate, \n",
    "'true_positive_rate':true_positive_rate, \n",
    "'roc_auc':roc_auc,\n",
    "'best_train_accuracy':best_acc, \n",
    "'average_train_accuracy':avg_acc,\n",
    "'test_accuracy':accuracy  }\n",
    "summary_result.append(item)"
   ]
  },
  {
   "cell_type": "markdown",
   "id": "00deb21e",
   "metadata": {},
   "source": [
    "# Ada boost"
   ]
  },
  {
   "cell_type": "code",
   "execution_count": 176,
   "id": "bdd5875b",
   "metadata": {},
   "outputs": [],
   "source": [
    "from sklearn.ensemble import AdaBoostClassifier"
   ]
  },
  {
   "cell_type": "code",
   "execution_count": 209,
   "id": "aa14e99b",
   "metadata": {},
   "outputs": [
    {
     "name": "stdout",
     "output_type": "stream",
     "text": [
      "number of samples: 1, accuracy : 0.9292403746097815\n",
      "number of samples: 2, accuracy : 0.9292403746097815\n",
      "number of samples: 3, accuracy : 0.9292403746097815\n",
      "number of samples: 4, accuracy : 0.9292403746097815\n",
      "number of samples: 5, accuracy : 0.9290669441553937\n",
      "number of samples: 6, accuracy : 0.9311481096080472\n",
      "number of samples: 7, accuracy : 0.9347901491501908\n",
      "number of samples: 8, accuracy : 0.932188692334374\n",
      "number of samples: 9, accuracy : 0.9368713146028442\n",
      "number of samples: 10, accuracy : 0.9340964273326396\n",
      "number of samples: 11, accuracy : 0.9363510232396809\n",
      "number of samples: 12, accuracy : 0.9387790496011099\n",
      "number of samples: 13, accuracy : 0.9372181755116198\n",
      "number of samples: 14, accuracy : 0.9401664932362123\n",
      "number of samples: 15, accuracy : 0.945369406867846\n",
      "number of samples: 16, accuracy : 0.945369406867846\n",
      "number of samples: 17, accuracy : 0.9458896982310093\n",
      "number of samples: 18, accuracy : 0.9451959764134582\n",
      "number of samples: 19, accuracy : 0.9441553936871314\n",
      "number of samples: 20, accuracy : 0.9464099895941728\n",
      "number of samples: 21, accuracy : 0.945369406867846\n",
      "number of samples: 22, accuracy : 0.945369406867846\n",
      "number of samples: 23, accuracy : 0.945369406867846\n",
      "number of samples: 24, accuracy : 0.9471037114117239\n",
      "number of samples: 25, accuracy : 0.9474505723204995\n",
      "number of samples: 26, accuracy : 0.9483177245924385\n",
      "number of samples: 27, accuracy : 0.9476240027748872\n",
      "number of samples: 28, accuracy : 0.948664585501214\n",
      "number of samples: 29, accuracy : 0.9479708636836629\n",
      "number of samples: 30, accuracy : 0.9472771418661117\n",
      "number of samples: 31, accuracy : 0.9488380159556018\n",
      "number of samples: 32, accuracy : 0.948664585501214\n",
      "number of samples: 33, accuracy : 0.9488380159556018\n",
      "number of samples: 34, accuracy : 0.9490114464099896\n",
      "number of samples: 35, accuracy : 0.9488380159556018\n",
      "number of samples: 36, accuracy : 0.9497051682275408\n",
      "number of samples: 37, accuracy : 0.948664585501214\n",
      "number of samples: 38, accuracy : 0.9495317377731529\n",
      "number of samples: 39, accuracy : 0.9500520291363164\n",
      "number of samples: 40, accuracy : 0.9500520291363164\n",
      "number of samples: 41, accuracy : 0.9502254595907041\n",
      "number of samples: 42, accuracy : 0.9495317377731529\n",
      "number of samples: 43, accuracy : 0.9500520291363164\n",
      "number of samples: 44, accuracy : 0.948664585501214\n",
      "number of samples: 45, accuracy : 0.9500520291363164\n",
      "number of samples: 46, accuracy : 0.9500520291363164\n",
      "number of samples: 47, accuracy : 0.9516129032258065\n",
      "number of samples: 48, accuracy : 0.9512660423170308\n",
      "number of samples: 49, accuracy : 0.9503988900450919\n"
     ]
    }
   ],
   "source": [
    "error_rate=[]\n",
    "for num_samples in range(1,50):\n",
    "    model= AdaBoostClassifier(n_estimators=num_samples, random_state=0)\n",
    "    model.fit(X, y)\n",
    "    score=model.score(X, y)\n",
    "    pred_i = model.predict(X_test_support)\n",
    "    error_rate.append(np.mean(pred_i != y_test_support))\n",
    "    print('number of samples: {0}, accuracy : {1}'.format(num_samples, score))\n",
    "\n",
    "\n",
    "    \n"
   ]
  },
  {
   "cell_type": "code",
   "execution_count": 210,
   "id": "d511dff0",
   "metadata": {},
   "outputs": [
    {
     "data": {
      "text/plain": [
       "Text(0, 0.5, 'Error Rate')"
      ]
     },
     "execution_count": 210,
     "metadata": {},
     "output_type": "execute_result"
    },
    {
     "data": {
      "image/png": "[encoded data removed]",
      "text/plain": [
       "<Figure size 720x432 with 1 Axes>"
      ]
     },
     "metadata": {
      "needs_background": "light"
     },
     "output_type": "display_data"
    }
   ],
   "source": [
    "plt.figure(figsize=(10,6))\n",
    "plt.plot(range(1,50),error_rate,color='blue', linestyle='dashed', marker='o', markerfacecolor='red', markersize=10)\n",
    "plt.title('Error Rate vs. n_estimators')\n",
    "plt.xlabel('n_estimators')\n",
    "plt.ylabel('Error Rate')"
   ]
  },
  {
   "cell_type": "code",
   "execution_count": 179,
   "id": "f565c398",
   "metadata": {},
   "outputs": [
    {
     "name": "stdout",
     "output_type": "stream",
     "text": [
      "training average accuracy: 0.942420987386867, training best accuracy: 0.9566724436741768,  test accuracy : 0.9514563106796117 \n"
     ]
    }
   ],
   "source": [
    "\n",
    "model= AdaBoostClassifier(n_estimators=25, random_state=0).fit(X, y)\n",
    "\n",
    "m, best_acc, avg_acc=k_fold_cross_validated_score(model, X, y)\n",
    "y_pred=model.predict(X_test)\n",
    "accuracy=accuracy_score(y_pred, y_test)\n",
    "print (\"training average accuracy: {0}, training best accuracy: {1},  test accuracy : {2} \".format( avg_acc, best_acc, accuracy))"
   ]
  },
  {
   "cell_type": "code",
   "execution_count": 180,
   "id": "e62f6f79",
   "metadata": {},
   "outputs": [],
   "source": [
    "false_positive_rate, true_positive_rate, thresholds = roc_curve(y_pred, y_test)\n",
    "roc_auc = auc(false_positive_rate, true_positive_rate)\n",
    "roc_auc\n",
    "item ={'model':'AdaBoost',\n",
    "'false_positive_rate':false_positive_rate, \n",
    "'true_positive_rate':true_positive_rate, \n",
    "'roc_auc':roc_auc,\n",
    "'best_train_accuracy':best_acc, \n",
    "'average_train_accuracy':avg_acc,\n",
    "'test_accuracy':accuracy  }\n",
    "summary_result.append(item)"
   ]
  },
  {
   "cell_type": "markdown",
   "id": "e7f40b04",
   "metadata": {},
   "source": [
    "# Artificial Neural Network"
   ]
  },
  {
   "cell_type": "code",
   "execution_count": 181,
   "id": "e9947963",
   "metadata": {},
   "outputs": [],
   "source": [
    "\n",
    "import torch\n",
    "import torch.nn as nn\n",
    "import torch.nn.functional as F\n",
    "\n",
    "from torch.utils.data import Dataset, DataLoader"
   ]
  },
  {
   "cell_type": "code",
   "execution_count": 182,
   "id": "34827480",
   "metadata": {},
   "outputs": [],
   "source": [
    "EPOCHS = 1500\n",
    "BATCH_SIZE = 64\n",
    "LEARNING_RATE = 0.01"
   ]
  },
  {
   "cell_type": "code",
   "execution_count": 183,
   "id": "c423e979",
   "metadata": {},
   "outputs": [],
   "source": [
    "X = new_df.drop('Personal Loan',axis=1)\n",
    "y = new_df['Personal Loan']"
   ]
  },
  {
   "cell_type": "code",
   "execution_count": 184,
   "id": "28f7f3db",
   "metadata": {},
   "outputs": [],
   "source": [
    "X_train, X_test, y_train, y_test = train_test_split(X, y,  test_size=0.2, random_state=42)"
   ]
  },
  {
   "cell_type": "code",
   "execution_count": 185,
   "id": "6def0b84",
   "metadata": {},
   "outputs": [],
   "source": [
    "class TrainData(Dataset):\n",
    "    \n",
    "    def __init__(self, X_data, y_data):\n",
    "        self.X_data = X_data\n",
    "        self.y_data = y_data\n",
    "        \n",
    "    def __getitem__(self, index):\n",
    "        return self.X_data[index], self.y_data[index]\n",
    "        \n",
    "    def __len__ (self):\n",
    "        return len(self.X_data)\n",
    "\n",
    "\n",
    "train_data = TrainData(torch.FloatTensor(X_train.values), \n",
    "                       torch.FloatTensor(y_train.values))\n"
   ]
  },
  {
   "cell_type": "code",
   "execution_count": 186,
   "id": "384e4660",
   "metadata": {},
   "outputs": [],
   "source": [
    "class TestData(Dataset):\n",
    "    \n",
    "    def __init__(self, X_data):\n",
    "        self.X_data = X_data\n",
    "        \n",
    "    def __getitem__(self, index):\n",
    "        return self.X_data[index]\n",
    "        \n",
    "    def __len__ (self):\n",
    "        return len(self.X_data)\n",
    "    \n",
    "\n",
    "test_data = TestData(torch.FloatTensor(X_test.values))"
   ]
  },
  {
   "cell_type": "code",
   "execution_count": 187,
   "id": "58697c6d",
   "metadata": {},
   "outputs": [],
   "source": [
    "train_loader = DataLoader(dataset=train_data, batch_size=BATCH_SIZE, shuffle=True)\n",
    "test_loader = DataLoader(dataset=test_data, batch_size=1)"
   ]
  },
  {
   "cell_type": "code",
   "execution_count": 188,
   "id": "73da9800",
   "metadata": {},
   "outputs": [],
   "source": [
    "class NeuralNet(nn.Module):\n",
    "    def __init__(self, input_dim, hidden_dim, output_dim):\n",
    "        super().__init__()\n",
    "        self.fc1=nn.Linear(input_dim, 128)\n",
    "        self.fc2 = nn.Linear(128, 84)\n",
    "        self.fc3 = nn.Linear(84, 64)\n",
    "        self.fc4 = nn.Linear(64, output_dim)\n",
    "        self.relu=nn.ReLU()\n",
    "        self.dropout_layer= nn.Dropout(0.3)\n",
    "        self.sigmoid=nn.Sigmoid()\n",
    "        self.batch_norm=nn.BatchNorm1d(64)\n",
    "       \n",
    "\n",
    "    def forward(self, X):\n",
    "        X = self.relu(self.fc1(X))\n",
    "        #X = self.batch_norm(X)\n",
    "        X = self.relu(self.fc2(X))\n",
    "        #X = self.batch_norm(X)\n",
    "        X = self.relu(self.fc3(X))\n",
    "        X = self.batch_norm(X)\n",
    "        X = self.dropout_layer(X)\n",
    "        return self.sigmoid(self.fc4(X))\n",
    "\n",
    "\n",
    "\n",
    "\n",
    "model = NeuralNet(7,0,1)"
   ]
  },
  {
   "cell_type": "code",
   "execution_count": 189,
   "id": "226a1ed6",
   "metadata": {},
   "outputs": [],
   "source": [
    "from torch.optim import Adam\n",
    "\n",
    "criterion = nn.BCELoss()\n",
    "optimizer = torch.optim.Adam(model.parameters(), lr=LEARNING_RATE)"
   ]
  },
  {
   "cell_type": "code",
   "execution_count": 190,
   "id": "9b2d72b9",
   "metadata": {},
   "outputs": [],
   "source": [
    "def binary_acc(y_pred, y_test):\n",
    "    y_pred_tag = torch.round(torch.sigmoid(y_pred))\n",
    "\n",
    "    correct_results_sum = (y_pred_tag == y_test).sum().float()\n",
    "    acc = correct_results_sum/y_test.shape[0]\n",
    "    acc = torch.round(acc * 100)\n",
    "    \n",
    "    return acc"
   ]
  },
  {
   "cell_type": "code",
   "execution_count": 191,
   "id": "a6f5f327",
   "metadata": {},
   "outputs": [
    {
     "name": "stdout",
     "output_type": "stream",
     "text": [
      "Epoch 050: | Loss: 0.12324 | Acc: 53.918\n",
      "Epoch 100: | Loss: 0.11131 | Acc: 53.589\n",
      "Epoch 150: | Loss: 0.09084 | Acc: 54.014\n",
      "Epoch 200: | Loss: 0.07399 | Acc: 53.781\n",
      "Epoch 250: | Loss: 0.07109 | Acc: 54.329\n",
      "Epoch 300: | Loss: 0.05010 | Acc: 53.699\n",
      "Epoch 350: | Loss: 0.14809 | Acc: 53.616\n",
      "Epoch 400: | Loss: 0.05969 | Acc: 53.671\n",
      "Epoch 450: | Loss: 0.04130 | Acc: 53.671\n",
      "Epoch 500: | Loss: 0.05493 | Acc: 53.342\n",
      "Epoch 550: | Loss: 0.03828 | Acc: 55.781\n",
      "Epoch 600: | Loss: 0.03729 | Acc: 53.836\n",
      "Epoch 650: | Loss: 0.03276 | Acc: 54.068\n",
      "Epoch 700: | Loss: 0.03456 | Acc: 54.096\n",
      "Epoch 750: | Loss: 0.03608 | Acc: 53.781\n",
      "Epoch 800: | Loss: 0.04124 | Acc: 53.658\n",
      "Epoch 850: | Loss: 0.03305 | Acc: 59.096\n",
      "Epoch 900: | Loss: 0.03870 | Acc: 57.740\n",
      "Epoch 950: | Loss: 0.03417 | Acc: 53.836\n",
      "Epoch 1000: | Loss: 0.02583 | Acc: 53.781\n",
      "Epoch 1050: | Loss: 0.02253 | Acc: 54.507\n",
      "Epoch 1100: | Loss: 0.06388 | Acc: 53.205\n",
      "Epoch 1150: | Loss: 0.02742 | Acc: 53.959\n",
      "Epoch 1200: | Loss: 0.36712 | Acc: 53.836\n",
      "Epoch 1250: | Loss: 0.02343 | Acc: 53.973\n",
      "Epoch 1300: | Loss: 0.04595 | Acc: 54.630\n",
      "Epoch 1350: | Loss: 0.02657 | Acc: 54.342\n",
      "Epoch 1400: | Loss: 0.03122 | Acc: 54.479\n",
      "Epoch 1450: | Loss: 0.02261 | Acc: 68.219\n",
      "Epoch 1500: | Loss: 0.02204 | Acc: 57.795\n"
     ]
    }
   ],
   "source": [
    "avg_acc=0\n",
    "best_acc=0\n",
    "model.train()\n",
    "for e in range(1, EPOCHS+1):\n",
    "    epoch_loss = 0\n",
    "    epoch_acc = 0\n",
    "    for X_batch, y_batch in train_loader:\n",
    "        optimizer.zero_grad()\n",
    "\n",
    "        y_pred = model(X_batch)\n",
    "        loss = criterion(y_pred.view(-1), y_batch)\n",
    "        acc = binary_acc(y_pred.view(-1), y_batch)\n",
    "        \n",
    "        loss.backward()\n",
    "        optimizer.step()\n",
    "        \n",
    "        epoch_loss += loss.item()\n",
    "        epoch_acc += acc.item()\n",
    "        \n",
    "    if e % 50 == 0:\n",
    "        print(f'Epoch {e+0:03}: | Loss: {epoch_loss/len(train_loader):.5f} | Acc: {epoch_acc/len(train_loader):.3f}')\n",
    "    avg_acc = avg_acc + epoch_acc/len(train_loader)\n",
    "    if best_acc < epoch_acc/len(train_loader):\n",
    "        best_acc=epoch_acc/len(train_loader)\n"
   ]
  },
  {
   "cell_type": "code",
   "execution_count": 192,
   "id": "181ea953",
   "metadata": {},
   "outputs": [],
   "source": [
    "avg_acc =avg_acc/len(train_loader)"
   ]
  },
  {
   "cell_type": "code",
   "execution_count": 194,
   "id": "1c65e28f",
   "metadata": {},
   "outputs": [],
   "source": [
    "avg_acc=best_acc"
   ]
  },
  {
   "cell_type": "code",
   "execution_count": 196,
   "id": "1c420aa1",
   "metadata": {},
   "outputs": [
    {
     "data": {
      "text/plain": [
       "74.89041095890411"
      ]
     },
     "execution_count": 196,
     "metadata": {},
     "output_type": "execute_result"
    }
   ],
   "source": [
    "avg_acc"
   ]
  },
  {
   "cell_type": "code",
   "execution_count": 197,
   "id": "6c81cbab",
   "metadata": {},
   "outputs": [],
   "source": [
    "y_pred_list = []\n",
    "model.eval()\n",
    "with torch.no_grad():\n",
    "    for X_batch in test_loader:\n",
    "        y_test_pred = model(X_batch)\n",
    "        y_test_pred = torch.sigmoid(y_test_pred)\n",
    "        y_pred_tag = torch.round(y_test_pred)\n",
    "        y_pred_list.append(y_pred_tag.numpy())\n",
    "\n",
    "y_pred_list = [a.squeeze().tolist() for a in y_pred_list]"
   ]
  },
  {
   "cell_type": "code",
   "execution_count": 198,
   "id": "2cd82ce5",
   "metadata": {},
   "outputs": [
    {
     "name": "stdout",
     "output_type": "stream",
     "text": [
      "training average accuracy: 74.89041095890411, training best accuracy: 74.89041095890411,  test accuracy : 0.5762564991334489 \n"
     ]
    }
   ],
   "source": [
    "\n",
    "accuracy=accuracy_score(y_pred_list, y_test)\n",
    "print (\"training average accuracy: {0}, training best accuracy: {1},  test accuracy : {2} \".format( avg_acc, best_acc, accuracy))"
   ]
  },
  {
   "cell_type": "code",
   "execution_count": 199,
   "id": "f2c37f76",
   "metadata": {},
   "outputs": [],
   "source": [
    "y_pred=y_pred_list\n",
    "y_test=y_test"
   ]
  },
  {
   "cell_type": "code",
   "execution_count": 200,
   "id": "ab0a2a06",
   "metadata": {},
   "outputs": [],
   "source": [
    "false_positive_rate, true_positive_rate, thresholds = roc_curve(y_pred, y_test)\n",
    "roc_auc = auc(false_positive_rate, true_positive_rate)\n",
    "roc_auc\n",
    "item ={'model':'Artificial Neural Network',\n",
    "'false_positive_rate':false_positive_rate, \n",
    "'true_positive_rate':true_positive_rate, \n",
    "'roc_auc':roc_auc,\n",
    "'best_train_accuracy':best_acc, \n",
    "'average_train_accuracy':avg_acc,\n",
    "'test_accuracy':accuracy  }\n",
    "summary_result.append(item)"
   ]
  },
  {
   "cell_type": "markdown",
   "id": "fd68d959",
   "metadata": {},
   "source": [
    "# MLP"
   ]
  },
  {
   "cell_type": "code",
   "execution_count": 201,
   "id": "8320c853",
   "metadata": {},
   "outputs": [],
   "source": [
    "from sklearn.neural_network import MLPClassifier\n",
    "from sklearn.datasets import make_classification\n",
    "from sklearn.model_selection import train_test_split"
   ]
  },
  {
   "cell_type": "code",
   "execution_count": 202,
   "id": "5c9f5d3d",
   "metadata": {},
   "outputs": [
    {
     "name": "stderr",
     "output_type": "stream",
     "text": [
      "/Users/rayhan/opt/anaconda3/lib/python3.8/site-packages/sklearn/neural_network/_multilayer_perceptron.py:692: ConvergenceWarning: Stochastic Optimizer: Maximum iterations (1) reached and the optimization hasn't converged yet.\n",
      "  warnings.warn(\n",
      "/Users/rayhan/opt/anaconda3/lib/python3.8/site-packages/sklearn/neural_network/_multilayer_perceptron.py:692: ConvergenceWarning: Stochastic Optimizer: Maximum iterations (2) reached and the optimization hasn't converged yet.\n",
      "  warnings.warn(\n",
      "/Users/rayhan/opt/anaconda3/lib/python3.8/site-packages/sklearn/neural_network/_multilayer_perceptron.py:692: ConvergenceWarning: Stochastic Optimizer: Maximum iterations (3) reached and the optimization hasn't converged yet.\n",
      "  warnings.warn(\n",
      "/Users/rayhan/opt/anaconda3/lib/python3.8/site-packages/sklearn/neural_network/_multilayer_perceptron.py:692: ConvergenceWarning: Stochastic Optimizer: Maximum iterations (4) reached and the optimization hasn't converged yet.\n",
      "  warnings.warn(\n",
      "/Users/rayhan/opt/anaconda3/lib/python3.8/site-packages/sklearn/neural_network/_multilayer_perceptron.py:692: ConvergenceWarning: Stochastic Optimizer: Maximum iterations (5) reached and the optimization hasn't converged yet.\n",
      "  warnings.warn(\n",
      "/Users/rayhan/opt/anaconda3/lib/python3.8/site-packages/sklearn/neural_network/_multilayer_perceptron.py:692: ConvergenceWarning: Stochastic Optimizer: Maximum iterations (6) reached and the optimization hasn't converged yet.\n",
      "  warnings.warn(\n",
      "/Users/rayhan/opt/anaconda3/lib/python3.8/site-packages/sklearn/neural_network/_multilayer_perceptron.py:692: ConvergenceWarning: Stochastic Optimizer: Maximum iterations (7) reached and the optimization hasn't converged yet.\n",
      "  warnings.warn(\n",
      "/Users/rayhan/opt/anaconda3/lib/python3.8/site-packages/sklearn/neural_network/_multilayer_perceptron.py:692: ConvergenceWarning: Stochastic Optimizer: Maximum iterations (8) reached and the optimization hasn't converged yet.\n",
      "  warnings.warn(\n",
      "/Users/rayhan/opt/anaconda3/lib/python3.8/site-packages/sklearn/neural_network/_multilayer_perceptron.py:692: ConvergenceWarning: Stochastic Optimizer: Maximum iterations (9) reached and the optimization hasn't converged yet.\n",
      "  warnings.warn(\n",
      "/Users/rayhan/opt/anaconda3/lib/python3.8/site-packages/sklearn/neural_network/_multilayer_perceptron.py:692: ConvergenceWarning: Stochastic Optimizer: Maximum iterations (10) reached and the optimization hasn't converged yet.\n",
      "  warnings.warn(\n",
      "/Users/rayhan/opt/anaconda3/lib/python3.8/site-packages/sklearn/neural_network/_multilayer_perceptron.py:692: ConvergenceWarning: Stochastic Optimizer: Maximum iterations (11) reached and the optimization hasn't converged yet.\n",
      "  warnings.warn(\n",
      "/Users/rayhan/opt/anaconda3/lib/python3.8/site-packages/sklearn/neural_network/_multilayer_perceptron.py:692: ConvergenceWarning: Stochastic Optimizer: Maximum iterations (12) reached and the optimization hasn't converged yet.\n",
      "  warnings.warn(\n",
      "/Users/rayhan/opt/anaconda3/lib/python3.8/site-packages/sklearn/neural_network/_multilayer_perceptron.py:692: ConvergenceWarning: Stochastic Optimizer: Maximum iterations (13) reached and the optimization hasn't converged yet.\n",
      "  warnings.warn(\n",
      "/Users/rayhan/opt/anaconda3/lib/python3.8/site-packages/sklearn/neural_network/_multilayer_perceptron.py:692: ConvergenceWarning: Stochastic Optimizer: Maximum iterations (14) reached and the optimization hasn't converged yet.\n",
      "  warnings.warn(\n",
      "/Users/rayhan/opt/anaconda3/lib/python3.8/site-packages/sklearn/neural_network/_multilayer_perceptron.py:692: ConvergenceWarning: Stochastic Optimizer: Maximum iterations (15) reached and the optimization hasn't converged yet.\n",
      "  warnings.warn(\n",
      "/Users/rayhan/opt/anaconda3/lib/python3.8/site-packages/sklearn/neural_network/_multilayer_perceptron.py:692: ConvergenceWarning: Stochastic Optimizer: Maximum iterations (16) reached and the optimization hasn't converged yet.\n",
      "  warnings.warn(\n",
      "/Users/rayhan/opt/anaconda3/lib/python3.8/site-packages/sklearn/neural_network/_multilayer_perceptron.py:692: ConvergenceWarning: Stochastic Optimizer: Maximum iterations (17) reached and the optimization hasn't converged yet.\n",
      "  warnings.warn(\n",
      "/Users/rayhan/opt/anaconda3/lib/python3.8/site-packages/sklearn/neural_network/_multilayer_perceptron.py:692: ConvergenceWarning: Stochastic Optimizer: Maximum iterations (18) reached and the optimization hasn't converged yet.\n",
      "  warnings.warn(\n",
      "/Users/rayhan/opt/anaconda3/lib/python3.8/site-packages/sklearn/neural_network/_multilayer_perceptron.py:692: ConvergenceWarning: Stochastic Optimizer: Maximum iterations (19) reached and the optimization hasn't converged yet.\n",
      "  warnings.warn(\n",
      "/Users/rayhan/opt/anaconda3/lib/python3.8/site-packages/sklearn/neural_network/_multilayer_perceptron.py:692: ConvergenceWarning: Stochastic Optimizer: Maximum iterations (20) reached and the optimization hasn't converged yet.\n",
      "  warnings.warn(\n",
      "/Users/rayhan/opt/anaconda3/lib/python3.8/site-packages/sklearn/neural_network/_multilayer_perceptron.py:692: ConvergenceWarning: Stochastic Optimizer: Maximum iterations (21) reached and the optimization hasn't converged yet.\n",
      "  warnings.warn(\n",
      "/Users/rayhan/opt/anaconda3/lib/python3.8/site-packages/sklearn/neural_network/_multilayer_perceptron.py:692: ConvergenceWarning: Stochastic Optimizer: Maximum iterations (22) reached and the optimization hasn't converged yet.\n",
      "  warnings.warn(\n",
      "/Users/rayhan/opt/anaconda3/lib/python3.8/site-packages/sklearn/neural_network/_multilayer_perceptron.py:692: ConvergenceWarning: Stochastic Optimizer: Maximum iterations (23) reached and the optimization hasn't converged yet.\n",
      "  warnings.warn(\n",
      "/Users/rayhan/opt/anaconda3/lib/python3.8/site-packages/sklearn/neural_network/_multilayer_perceptron.py:692: ConvergenceWarning: Stochastic Optimizer: Maximum iterations (24) reached and the optimization hasn't converged yet.\n",
      "  warnings.warn(\n",
      "/Users/rayhan/opt/anaconda3/lib/python3.8/site-packages/sklearn/neural_network/_multilayer_perceptron.py:692: ConvergenceWarning: Stochastic Optimizer: Maximum iterations (25) reached and the optimization hasn't converged yet.\n",
      "  warnings.warn(\n",
      "/Users/rayhan/opt/anaconda3/lib/python3.8/site-packages/sklearn/neural_network/_multilayer_perceptron.py:692: ConvergenceWarning: Stochastic Optimizer: Maximum iterations (26) reached and the optimization hasn't converged yet.\n",
      "  warnings.warn(\n",
      "/Users/rayhan/opt/anaconda3/lib/python3.8/site-packages/sklearn/neural_network/_multilayer_perceptron.py:692: ConvergenceWarning: Stochastic Optimizer: Maximum iterations (27) reached and the optimization hasn't converged yet.\n",
      "  warnings.warn(\n",
      "/Users/rayhan/opt/anaconda3/lib/python3.8/site-packages/sklearn/neural_network/_multilayer_perceptron.py:692: ConvergenceWarning: Stochastic Optimizer: Maximum iterations (28) reached and the optimization hasn't converged yet.\n",
      "  warnings.warn(\n",
      "/Users/rayhan/opt/anaconda3/lib/python3.8/site-packages/sklearn/neural_network/_multilayer_perceptron.py:692: ConvergenceWarning: Stochastic Optimizer: Maximum iterations (29) reached and the optimization hasn't converged yet.\n",
      "  warnings.warn(\n",
      "/Users/rayhan/opt/anaconda3/lib/python3.8/site-packages/sklearn/neural_network/_multilayer_perceptron.py:692: ConvergenceWarning: Stochastic Optimizer: Maximum iterations (30) reached and the optimization hasn't converged yet.\n",
      "  warnings.warn(\n"
     ]
    },
    {
     "name": "stdout",
     "output_type": "stream",
     "text": [
      "number of iterations: 30, accuracy : 0.942074228234478\n"
     ]
    },
    {
     "name": "stderr",
     "output_type": "stream",
     "text": [
      "/Users/rayhan/opt/anaconda3/lib/python3.8/site-packages/sklearn/neural_network/_multilayer_perceptron.py:692: ConvergenceWarning: Stochastic Optimizer: Maximum iterations (31) reached and the optimization hasn't converged yet.\n",
      "  warnings.warn(\n",
      "/Users/rayhan/opt/anaconda3/lib/python3.8/site-packages/sklearn/neural_network/_multilayer_perceptron.py:692: ConvergenceWarning: Stochastic Optimizer: Maximum iterations (32) reached and the optimization hasn't converged yet.\n",
      "  warnings.warn(\n",
      "/Users/rayhan/opt/anaconda3/lib/python3.8/site-packages/sklearn/neural_network/_multilayer_perceptron.py:692: ConvergenceWarning: Stochastic Optimizer: Maximum iterations (33) reached and the optimization hasn't converged yet.\n",
      "  warnings.warn(\n",
      "/Users/rayhan/opt/anaconda3/lib/python3.8/site-packages/sklearn/neural_network/_multilayer_perceptron.py:692: ConvergenceWarning: Stochastic Optimizer: Maximum iterations (34) reached and the optimization hasn't converged yet.\n",
      "  warnings.warn(\n",
      "/Users/rayhan/opt/anaconda3/lib/python3.8/site-packages/sklearn/neural_network/_multilayer_perceptron.py:692: ConvergenceWarning: Stochastic Optimizer: Maximum iterations (35) reached and the optimization hasn't converged yet.\n",
      "  warnings.warn(\n",
      "/Users/rayhan/opt/anaconda3/lib/python3.8/site-packages/sklearn/neural_network/_multilayer_perceptron.py:692: ConvergenceWarning: Stochastic Optimizer: Maximum iterations (36) reached and the optimization hasn't converged yet.\n",
      "  warnings.warn(\n",
      "/Users/rayhan/opt/anaconda3/lib/python3.8/site-packages/sklearn/neural_network/_multilayer_perceptron.py:692: ConvergenceWarning: Stochastic Optimizer: Maximum iterations (37) reached and the optimization hasn't converged yet.\n",
      "  warnings.warn(\n",
      "/Users/rayhan/opt/anaconda3/lib/python3.8/site-packages/sklearn/neural_network/_multilayer_perceptron.py:692: ConvergenceWarning: Stochastic Optimizer: Maximum iterations (38) reached and the optimization hasn't converged yet.\n",
      "  warnings.warn(\n",
      "/Users/rayhan/opt/anaconda3/lib/python3.8/site-packages/sklearn/neural_network/_multilayer_perceptron.py:692: ConvergenceWarning: Stochastic Optimizer: Maximum iterations (39) reached and the optimization hasn't converged yet.\n",
      "  warnings.warn(\n",
      "/Users/rayhan/opt/anaconda3/lib/python3.8/site-packages/sklearn/neural_network/_multilayer_perceptron.py:692: ConvergenceWarning: Stochastic Optimizer: Maximum iterations (40) reached and the optimization hasn't converged yet.\n",
      "  warnings.warn(\n",
      "/Users/rayhan/opt/anaconda3/lib/python3.8/site-packages/sklearn/neural_network/_multilayer_perceptron.py:692: ConvergenceWarning: Stochastic Optimizer: Maximum iterations (41) reached and the optimization hasn't converged yet.\n",
      "  warnings.warn(\n",
      "/Users/rayhan/opt/anaconda3/lib/python3.8/site-packages/sklearn/neural_network/_multilayer_perceptron.py:692: ConvergenceWarning: Stochastic Optimizer: Maximum iterations (42) reached and the optimization hasn't converged yet.\n",
      "  warnings.warn(\n",
      "/Users/rayhan/opt/anaconda3/lib/python3.8/site-packages/sklearn/neural_network/_multilayer_perceptron.py:692: ConvergenceWarning: Stochastic Optimizer: Maximum iterations (43) reached and the optimization hasn't converged yet.\n",
      "  warnings.warn(\n",
      "/Users/rayhan/opt/anaconda3/lib/python3.8/site-packages/sklearn/neural_network/_multilayer_perceptron.py:692: ConvergenceWarning: Stochastic Optimizer: Maximum iterations (44) reached and the optimization hasn't converged yet.\n",
      "  warnings.warn(\n",
      "/Users/rayhan/opt/anaconda3/lib/python3.8/site-packages/sklearn/neural_network/_multilayer_perceptron.py:692: ConvergenceWarning: Stochastic Optimizer: Maximum iterations (45) reached and the optimization hasn't converged yet.\n",
      "  warnings.warn(\n",
      "/Users/rayhan/opt/anaconda3/lib/python3.8/site-packages/sklearn/neural_network/_multilayer_perceptron.py:692: ConvergenceWarning: Stochastic Optimizer: Maximum iterations (46) reached and the optimization hasn't converged yet.\n",
      "  warnings.warn(\n",
      "/Users/rayhan/opt/anaconda3/lib/python3.8/site-packages/sklearn/neural_network/_multilayer_perceptron.py:692: ConvergenceWarning: Stochastic Optimizer: Maximum iterations (47) reached and the optimization hasn't converged yet.\n",
      "  warnings.warn(\n",
      "/Users/rayhan/opt/anaconda3/lib/python3.8/site-packages/sklearn/neural_network/_multilayer_perceptron.py:692: ConvergenceWarning: Stochastic Optimizer: Maximum iterations (48) reached and the optimization hasn't converged yet.\n",
      "  warnings.warn(\n",
      "/Users/rayhan/opt/anaconda3/lib/python3.8/site-packages/sklearn/neural_network/_multilayer_perceptron.py:692: ConvergenceWarning: Stochastic Optimizer: Maximum iterations (49) reached and the optimization hasn't converged yet.\n",
      "  warnings.warn(\n",
      "/Users/rayhan/opt/anaconda3/lib/python3.8/site-packages/sklearn/neural_network/_multilayer_perceptron.py:692: ConvergenceWarning: Stochastic Optimizer: Maximum iterations (50) reached and the optimization hasn't converged yet.\n",
      "  warnings.warn(\n",
      "/Users/rayhan/opt/anaconda3/lib/python3.8/site-packages/sklearn/neural_network/_multilayer_perceptron.py:692: ConvergenceWarning: Stochastic Optimizer: Maximum iterations (51) reached and the optimization hasn't converged yet.\n",
      "  warnings.warn(\n",
      "/Users/rayhan/opt/anaconda3/lib/python3.8/site-packages/sklearn/neural_network/_multilayer_perceptron.py:692: ConvergenceWarning: Stochastic Optimizer: Maximum iterations (52) reached and the optimization hasn't converged yet.\n",
      "  warnings.warn(\n",
      "/Users/rayhan/opt/anaconda3/lib/python3.8/site-packages/sklearn/neural_network/_multilayer_perceptron.py:692: ConvergenceWarning: Stochastic Optimizer: Maximum iterations (53) reached and the optimization hasn't converged yet.\n",
      "  warnings.warn(\n",
      "/Users/rayhan/opt/anaconda3/lib/python3.8/site-packages/sklearn/neural_network/_multilayer_perceptron.py:692: ConvergenceWarning: Stochastic Optimizer: Maximum iterations (54) reached and the optimization hasn't converged yet.\n",
      "  warnings.warn(\n",
      "/Users/rayhan/opt/anaconda3/lib/python3.8/site-packages/sklearn/neural_network/_multilayer_perceptron.py:692: ConvergenceWarning: Stochastic Optimizer: Maximum iterations (55) reached and the optimization hasn't converged yet.\n",
      "  warnings.warn(\n",
      "/Users/rayhan/opt/anaconda3/lib/python3.8/site-packages/sklearn/neural_network/_multilayer_perceptron.py:692: ConvergenceWarning: Stochastic Optimizer: Maximum iterations (56) reached and the optimization hasn't converged yet.\n",
      "  warnings.warn(\n",
      "/Users/rayhan/opt/anaconda3/lib/python3.8/site-packages/sklearn/neural_network/_multilayer_perceptron.py:692: ConvergenceWarning: Stochastic Optimizer: Maximum iterations (57) reached and the optimization hasn't converged yet.\n",
      "  warnings.warn(\n",
      "/Users/rayhan/opt/anaconda3/lib/python3.8/site-packages/sklearn/neural_network/_multilayer_perceptron.py:692: ConvergenceWarning: Stochastic Optimizer: Maximum iterations (58) reached and the optimization hasn't converged yet.\n",
      "  warnings.warn(\n",
      "/Users/rayhan/opt/anaconda3/lib/python3.8/site-packages/sklearn/neural_network/_multilayer_perceptron.py:692: ConvergenceWarning: Stochastic Optimizer: Maximum iterations (59) reached and the optimization hasn't converged yet.\n",
      "  warnings.warn(\n",
      "/Users/rayhan/opt/anaconda3/lib/python3.8/site-packages/sklearn/neural_network/_multilayer_perceptron.py:692: ConvergenceWarning: Stochastic Optimizer: Maximum iterations (60) reached and the optimization hasn't converged yet.\n",
      "  warnings.warn(\n"
     ]
    },
    {
     "name": "stdout",
     "output_type": "stream",
     "text": [
      "number of iterations: 60, accuracy : 0.9455428373222338\n"
     ]
    },
    {
     "name": "stderr",
     "output_type": "stream",
     "text": [
      "/Users/rayhan/opt/anaconda3/lib/python3.8/site-packages/sklearn/neural_network/_multilayer_perceptron.py:692: ConvergenceWarning: Stochastic Optimizer: Maximum iterations (61) reached and the optimization hasn't converged yet.\n",
      "  warnings.warn(\n",
      "/Users/rayhan/opt/anaconda3/lib/python3.8/site-packages/sklearn/neural_network/_multilayer_perceptron.py:692: ConvergenceWarning: Stochastic Optimizer: Maximum iterations (62) reached and the optimization hasn't converged yet.\n",
      "  warnings.warn(\n",
      "/Users/rayhan/opt/anaconda3/lib/python3.8/site-packages/sklearn/neural_network/_multilayer_perceptron.py:692: ConvergenceWarning: Stochastic Optimizer: Maximum iterations (63) reached and the optimization hasn't converged yet.\n",
      "  warnings.warn(\n",
      "/Users/rayhan/opt/anaconda3/lib/python3.8/site-packages/sklearn/neural_network/_multilayer_perceptron.py:692: ConvergenceWarning: Stochastic Optimizer: Maximum iterations (64) reached and the optimization hasn't converged yet.\n",
      "  warnings.warn(\n",
      "/Users/rayhan/opt/anaconda3/lib/python3.8/site-packages/sklearn/neural_network/_multilayer_perceptron.py:692: ConvergenceWarning: Stochastic Optimizer: Maximum iterations (65) reached and the optimization hasn't converged yet.\n",
      "  warnings.warn(\n",
      "/Users/rayhan/opt/anaconda3/lib/python3.8/site-packages/sklearn/neural_network/_multilayer_perceptron.py:692: ConvergenceWarning: Stochastic Optimizer: Maximum iterations (66) reached and the optimization hasn't converged yet.\n",
      "  warnings.warn(\n",
      "/Users/rayhan/opt/anaconda3/lib/python3.8/site-packages/sklearn/neural_network/_multilayer_perceptron.py:692: ConvergenceWarning: Stochastic Optimizer: Maximum iterations (67) reached and the optimization hasn't converged yet.\n",
      "  warnings.warn(\n",
      "/Users/rayhan/opt/anaconda3/lib/python3.8/site-packages/sklearn/neural_network/_multilayer_perceptron.py:692: ConvergenceWarning: Stochastic Optimizer: Maximum iterations (68) reached and the optimization hasn't converged yet.\n",
      "  warnings.warn(\n",
      "/Users/rayhan/opt/anaconda3/lib/python3.8/site-packages/sklearn/neural_network/_multilayer_perceptron.py:692: ConvergenceWarning: Stochastic Optimizer: Maximum iterations (69) reached and the optimization hasn't converged yet.\n",
      "  warnings.warn(\n",
      "/Users/rayhan/opt/anaconda3/lib/python3.8/site-packages/sklearn/neural_network/_multilayer_perceptron.py:692: ConvergenceWarning: Stochastic Optimizer: Maximum iterations (70) reached and the optimization hasn't converged yet.\n",
      "  warnings.warn(\n",
      "/Users/rayhan/opt/anaconda3/lib/python3.8/site-packages/sklearn/neural_network/_multilayer_perceptron.py:692: ConvergenceWarning: Stochastic Optimizer: Maximum iterations (71) reached and the optimization hasn't converged yet.\n",
      "  warnings.warn(\n",
      "/Users/rayhan/opt/anaconda3/lib/python3.8/site-packages/sklearn/neural_network/_multilayer_perceptron.py:692: ConvergenceWarning: Stochastic Optimizer: Maximum iterations (72) reached and the optimization hasn't converged yet.\n",
      "  warnings.warn(\n",
      "/Users/rayhan/opt/anaconda3/lib/python3.8/site-packages/sklearn/neural_network/_multilayer_perceptron.py:692: ConvergenceWarning: Stochastic Optimizer: Maximum iterations (73) reached and the optimization hasn't converged yet.\n",
      "  warnings.warn(\n",
      "/Users/rayhan/opt/anaconda3/lib/python3.8/site-packages/sklearn/neural_network/_multilayer_perceptron.py:692: ConvergenceWarning: Stochastic Optimizer: Maximum iterations (74) reached and the optimization hasn't converged yet.\n",
      "  warnings.warn(\n",
      "/Users/rayhan/opt/anaconda3/lib/python3.8/site-packages/sklearn/neural_network/_multilayer_perceptron.py:692: ConvergenceWarning: Stochastic Optimizer: Maximum iterations (75) reached and the optimization hasn't converged yet.\n",
      "  warnings.warn(\n",
      "/Users/rayhan/opt/anaconda3/lib/python3.8/site-packages/sklearn/neural_network/_multilayer_perceptron.py:692: ConvergenceWarning: Stochastic Optimizer: Maximum iterations (76) reached and the optimization hasn't converged yet.\n",
      "  warnings.warn(\n",
      "/Users/rayhan/opt/anaconda3/lib/python3.8/site-packages/sklearn/neural_network/_multilayer_perceptron.py:692: ConvergenceWarning: Stochastic Optimizer: Maximum iterations (77) reached and the optimization hasn't converged yet.\n",
      "  warnings.warn(\n",
      "/Users/rayhan/opt/anaconda3/lib/python3.8/site-packages/sklearn/neural_network/_multilayer_perceptron.py:692: ConvergenceWarning: Stochastic Optimizer: Maximum iterations (78) reached and the optimization hasn't converged yet.\n",
      "  warnings.warn(\n",
      "/Users/rayhan/opt/anaconda3/lib/python3.8/site-packages/sklearn/neural_network/_multilayer_perceptron.py:692: ConvergenceWarning: Stochastic Optimizer: Maximum iterations (79) reached and the optimization hasn't converged yet.\n",
      "  warnings.warn(\n",
      "/Users/rayhan/opt/anaconda3/lib/python3.8/site-packages/sklearn/neural_network/_multilayer_perceptron.py:692: ConvergenceWarning: Stochastic Optimizer: Maximum iterations (80) reached and the optimization hasn't converged yet.\n",
      "  warnings.warn(\n",
      "/Users/rayhan/opt/anaconda3/lib/python3.8/site-packages/sklearn/neural_network/_multilayer_perceptron.py:692: ConvergenceWarning: Stochastic Optimizer: Maximum iterations (81) reached and the optimization hasn't converged yet.\n",
      "  warnings.warn(\n",
      "/Users/rayhan/opt/anaconda3/lib/python3.8/site-packages/sklearn/neural_network/_multilayer_perceptron.py:692: ConvergenceWarning: Stochastic Optimizer: Maximum iterations (82) reached and the optimization hasn't converged yet.\n",
      "  warnings.warn(\n",
      "/Users/rayhan/opt/anaconda3/lib/python3.8/site-packages/sklearn/neural_network/_multilayer_perceptron.py:692: ConvergenceWarning: Stochastic Optimizer: Maximum iterations (83) reached and the optimization hasn't converged yet.\n",
      "  warnings.warn(\n",
      "/Users/rayhan/opt/anaconda3/lib/python3.8/site-packages/sklearn/neural_network/_multilayer_perceptron.py:692: ConvergenceWarning: Stochastic Optimizer: Maximum iterations (84) reached and the optimization hasn't converged yet.\n",
      "  warnings.warn(\n",
      "/Users/rayhan/opt/anaconda3/lib/python3.8/site-packages/sklearn/neural_network/_multilayer_perceptron.py:692: ConvergenceWarning: Stochastic Optimizer: Maximum iterations (85) reached and the optimization hasn't converged yet.\n",
      "  warnings.warn(\n",
      "/Users/rayhan/opt/anaconda3/lib/python3.8/site-packages/sklearn/neural_network/_multilayer_perceptron.py:692: ConvergenceWarning: Stochastic Optimizer: Maximum iterations (86) reached and the optimization hasn't converged yet.\n",
      "  warnings.warn(\n",
      "/Users/rayhan/opt/anaconda3/lib/python3.8/site-packages/sklearn/neural_network/_multilayer_perceptron.py:692: ConvergenceWarning: Stochastic Optimizer: Maximum iterations (87) reached and the optimization hasn't converged yet.\n",
      "  warnings.warn(\n",
      "/Users/rayhan/opt/anaconda3/lib/python3.8/site-packages/sklearn/neural_network/_multilayer_perceptron.py:692: ConvergenceWarning: Stochastic Optimizer: Maximum iterations (88) reached and the optimization hasn't converged yet.\n",
      "  warnings.warn(\n",
      "/Users/rayhan/opt/anaconda3/lib/python3.8/site-packages/sklearn/neural_network/_multilayer_perceptron.py:692: ConvergenceWarning: Stochastic Optimizer: Maximum iterations (89) reached and the optimization hasn't converged yet.\n",
      "  warnings.warn(\n",
      "/Users/rayhan/opt/anaconda3/lib/python3.8/site-packages/sklearn/neural_network/_multilayer_perceptron.py:692: ConvergenceWarning: Stochastic Optimizer: Maximum iterations (90) reached and the optimization hasn't converged yet.\n",
      "  warnings.warn(\n"
     ]
    },
    {
     "name": "stdout",
     "output_type": "stream",
     "text": [
      "number of iterations: 90, accuracy : 0.9458896982310093\n"
     ]
    },
    {
     "name": "stderr",
     "output_type": "stream",
     "text": [
      "/Users/rayhan/opt/anaconda3/lib/python3.8/site-packages/sklearn/neural_network/_multilayer_perceptron.py:692: ConvergenceWarning: Stochastic Optimizer: Maximum iterations (91) reached and the optimization hasn't converged yet.\n",
      "  warnings.warn(\n",
      "/Users/rayhan/opt/anaconda3/lib/python3.8/site-packages/sklearn/neural_network/_multilayer_perceptron.py:692: ConvergenceWarning: Stochastic Optimizer: Maximum iterations (92) reached and the optimization hasn't converged yet.\n",
      "  warnings.warn(\n",
      "/Users/rayhan/opt/anaconda3/lib/python3.8/site-packages/sklearn/neural_network/_multilayer_perceptron.py:692: ConvergenceWarning: Stochastic Optimizer: Maximum iterations (93) reached and the optimization hasn't converged yet.\n",
      "  warnings.warn(\n",
      "/Users/rayhan/opt/anaconda3/lib/python3.8/site-packages/sklearn/neural_network/_multilayer_perceptron.py:692: ConvergenceWarning: Stochastic Optimizer: Maximum iterations (94) reached and the optimization hasn't converged yet.\n",
      "  warnings.warn(\n",
      "/Users/rayhan/opt/anaconda3/lib/python3.8/site-packages/sklearn/neural_network/_multilayer_perceptron.py:692: ConvergenceWarning: Stochastic Optimizer: Maximum iterations (95) reached and the optimization hasn't converged yet.\n",
      "  warnings.warn(\n",
      "/Users/rayhan/opt/anaconda3/lib/python3.8/site-packages/sklearn/neural_network/_multilayer_perceptron.py:692: ConvergenceWarning: Stochastic Optimizer: Maximum iterations (96) reached and the optimization hasn't converged yet.\n",
      "  warnings.warn(\n",
      "/Users/rayhan/opt/anaconda3/lib/python3.8/site-packages/sklearn/neural_network/_multilayer_perceptron.py:692: ConvergenceWarning: Stochastic Optimizer: Maximum iterations (97) reached and the optimization hasn't converged yet.\n",
      "  warnings.warn(\n",
      "/Users/rayhan/opt/anaconda3/lib/python3.8/site-packages/sklearn/neural_network/_multilayer_perceptron.py:692: ConvergenceWarning: Stochastic Optimizer: Maximum iterations (98) reached and the optimization hasn't converged yet.\n",
      "  warnings.warn(\n",
      "/Users/rayhan/opt/anaconda3/lib/python3.8/site-packages/sklearn/neural_network/_multilayer_perceptron.py:692: ConvergenceWarning: Stochastic Optimizer: Maximum iterations (99) reached and the optimization hasn't converged yet.\n",
      "  warnings.warn(\n"
     ]
    }
   ],
   "source": [
    "error_rate=[]\n",
    "for num_iter in range(1,100):\n",
    "    model= MLPClassifier(random_state=1, max_iter=num_iter)\n",
    "    model.fit(X, y)\n",
    "    score=model.score(X, y)\n",
    "    pred_i = model.predict(X_test_support)\n",
    "    error_rate.append(np.mean(pred_i != y_test_support))\n",
    "    if num_iter % 30 ==0:\n",
    "        print('number of iterations: {0}, accuracy : {1}'.format(num_iter, score))\n",
    "\n"
   ]
  },
  {
   "cell_type": "code",
   "execution_count": 203,
   "id": "9820abaa",
   "metadata": {},
   "outputs": [
    {
     "data": {
      "text/plain": [
       "Text(0, 0.5, 'Error Rate')"
      ]
     },
     "execution_count": 203,
     "metadata": {},
     "output_type": "execute_result"
    },
    {
     "data": {
      "image/png": "[encoded data removed]",
      "text/plain": [
       "<Figure size 720x432 with 1 Axes>"
      ]
     },
     "metadata": {
      "needs_background": "light"
     },
     "output_type": "display_data"
    }
   ],
   "source": [
    "plt.figure(figsize=(10,6))\n",
    "plt.plot(range(1,100),error_rate,color='blue', linestyle='dashed', marker='o', markerfacecolor='red', markersize=10)\n",
    "plt.title('Error Rate vs. max_iters')\n",
    "plt.xlabel('K')\n",
    "plt.ylabel('Error Rate')"
   ]
  },
  {
   "cell_type": "code",
   "execution_count": 204,
   "id": "03df46c8",
   "metadata": {},
   "outputs": [
    {
     "name": "stderr",
     "output_type": "stream",
     "text": [
      "/Users/rayhan/opt/anaconda3/lib/python3.8/site-packages/sklearn/neural_network/_multilayer_perceptron.py:692: ConvergenceWarning: Stochastic Optimizer: Maximum iterations (61) reached and the optimization hasn't converged yet.\n",
      "  warnings.warn(\n",
      "/Users/rayhan/opt/anaconda3/lib/python3.8/site-packages/sklearn/neural_network/_multilayer_perceptron.py:692: ConvergenceWarning: Stochastic Optimizer: Maximum iterations (61) reached and the optimization hasn't converged yet.\n",
      "  warnings.warn(\n",
      "/Users/rayhan/opt/anaconda3/lib/python3.8/site-packages/sklearn/neural_network/_multilayer_perceptron.py:692: ConvergenceWarning: Stochastic Optimizer: Maximum iterations (61) reached and the optimization hasn't converged yet.\n",
      "  warnings.warn(\n",
      "/Users/rayhan/opt/anaconda3/lib/python3.8/site-packages/sklearn/neural_network/_multilayer_perceptron.py:692: ConvergenceWarning: Stochastic Optimizer: Maximum iterations (61) reached and the optimization hasn't converged yet.\n",
      "  warnings.warn(\n",
      "/Users/rayhan/opt/anaconda3/lib/python3.8/site-packages/sklearn/neural_network/_multilayer_perceptron.py:692: ConvergenceWarning: Stochastic Optimizer: Maximum iterations (61) reached and the optimization hasn't converged yet.\n",
      "  warnings.warn(\n",
      "/Users/rayhan/opt/anaconda3/lib/python3.8/site-packages/sklearn/neural_network/_multilayer_perceptron.py:692: ConvergenceWarning: Stochastic Optimizer: Maximum iterations (61) reached and the optimization hasn't converged yet.\n",
      "  warnings.warn(\n",
      "/Users/rayhan/opt/anaconda3/lib/python3.8/site-packages/sklearn/neural_network/_multilayer_perceptron.py:692: ConvergenceWarning: Stochastic Optimizer: Maximum iterations (61) reached and the optimization hasn't converged yet.\n",
      "  warnings.warn(\n",
      "/Users/rayhan/opt/anaconda3/lib/python3.8/site-packages/sklearn/neural_network/_multilayer_perceptron.py:692: ConvergenceWarning: Stochastic Optimizer: Maximum iterations (61) reached and the optimization hasn't converged yet.\n",
      "  warnings.warn(\n",
      "/Users/rayhan/opt/anaconda3/lib/python3.8/site-packages/sklearn/neural_network/_multilayer_perceptron.py:692: ConvergenceWarning: Stochastic Optimizer: Maximum iterations (61) reached and the optimization hasn't converged yet.\n",
      "  warnings.warn(\n",
      "/Users/rayhan/opt/anaconda3/lib/python3.8/site-packages/sklearn/neural_network/_multilayer_perceptron.py:692: ConvergenceWarning: Stochastic Optimizer: Maximum iterations (61) reached and the optimization hasn't converged yet.\n",
      "  warnings.warn(\n"
     ]
    },
    {
     "name": "stdout",
     "output_type": "stream",
     "text": [
      "training average accuracy: 0.9424224918159061, training best accuracy: 0.9549393414211439,  test accuracy : 0.9480069324090121 \n"
     ]
    },
    {
     "name": "stderr",
     "output_type": "stream",
     "text": [
      "/Users/rayhan/opt/anaconda3/lib/python3.8/site-packages/sklearn/neural_network/_multilayer_perceptron.py:692: ConvergenceWarning: Stochastic Optimizer: Maximum iterations (61) reached and the optimization hasn't converged yet.\n",
      "  warnings.warn(\n"
     ]
    }
   ],
   "source": [
    "model= MLPClassifier(max_iter=61, random_state=1)\n",
    "model.fit(X, y)\n",
    "m, best_acc, avg_acc=k_fold_cross_validated_score(model, X, y)\n",
    "y_pred=model.predict(X_test)\n",
    "accuracy=accuracy_score(y_pred, y_test)\n",
    "print (\"training average accuracy: {0}, training best accuracy: {1},  test accuracy : {2} \".format( avg_acc, best_acc, accuracy))"
   ]
  },
  {
   "cell_type": "code",
   "execution_count": 205,
   "id": "2889671e",
   "metadata": {},
   "outputs": [],
   "source": [
    "false_positive_rate, true_positive_rate, thresholds = roc_curve(y_pred, y_test)\n",
    "roc_auc = auc(false_positive_rate, true_positive_rate)\n",
    "roc_auc\n",
    "item ={'model':'MLPClassifier',\n",
    "'false_positive_rate':false_positive_rate, \n",
    "'true_positive_rate':true_positive_rate, \n",
    "'roc_auc':roc_auc,\n",
    "'best_train_accuracy':best_acc, \n",
    "'average_train_accuracy':avg_acc,\n",
    "'test_accuracy':accuracy  }\n",
    "summary_result.append(item)"
   ]
  },
  {
   "cell_type": "markdown",
   "id": "a1a625bd",
   "metadata": {},
   "source": [
    "# ROC CURVE "
   ]
  },
  {
   "cell_type": "code",
   "execution_count": 206,
   "id": "e5729de1",
   "metadata": {},
   "outputs": [
    {
     "name": "stdout",
     "output_type": "stream",
     "text": [
      "Model:Logistic Regression, Traning Accuracy= 0.9340960788561524, Test Accuracy= 0.9368932038834952\n",
      "Model:Linear Perceptron, Traning Accuracy= 0.8144741117850952, Test Accuracy= 0.7704576976421637\n",
      "Model:Support Vector machine, Traning Accuracy= 0.9471057794145967, Test Accuracy= 0.9438280166435506\n",
      "Model:Decision Tree, Traning Accuracy= 0.9604575871365298, Test Accuracy= 0.949375866851595\n",
      "Model:Random Forest, Traning Accuracy= 0.9580303413248604, Test Accuracy= 0.9549237170596394\n",
      "Model:Knn, Traning Accuracy= 0.9547374470440978, Test Accuracy= 0.9535367545076283\n",
      "Model:Naive Bayes, Traning Accuracy= 0.9087723257269401, Test Accuracy= 0.9237170596393898\n",
      "Model:AdaBoost, Traning Accuracy= 0.942420987386867, Test Accuracy= 0.9514563106796117\n",
      "Model:Artificial Neural Network, Traning Accuracy= 74.89041095890411, Test Accuracy= 0.5762564991334489\n",
      "Model:MLPClassifier, Traning Accuracy= 0.9424224918159061, Test Accuracy= 0.9480069324090121\n"
     ]
    }
   ],
   "source": [
    "for result in summary_result:\n",
    "    print('Model:{0}, Traning Accuracy= {1}, Test Accuracy= {2}'.format(\n",
    "        result['model'], result['average_train_accuracy'], result['test_accuracy'] ))"
   ]
  },
  {
   "cell_type": "code",
   "execution_count": 208,
   "id": "7e3fc214",
   "metadata": {},
   "outputs": [
    {
     "data": {
      "text/plain": [
       "Text(0.5, 0, 'False Positive Rate')"
      ]
     },
     "execution_count": 208,
     "metadata": {},
     "output_type": "execute_result"
    },
    {
     "data": {
      "image/png": "[encoded data removed]",
      "text/plain": [
       "<Figure size 576x576 with 1 Axes>"
      ]
     },
     "metadata": {
      "needs_background": "light"
     },
     "output_type": "display_data"
    }
   ],
   "source": [
    "plt.figure(figsize=(8,8))\n",
    "plt.title('Receiver Operating Characteristic Curve')\n",
    "\n",
    "for result in summary_result:\n",
    "    plt.plot(result['false_positive_rate'],result['true_positive_rate'],label =result['model'] +' = %0.2f' % result['roc_auc'])\n",
    "    plt.legend(loc = 'lower right')\n",
    "    plt.plot([0, 1], [0, 1],linestyle='--')\n",
    "\n",
    "plt.axis('tight')\n",
    "plt.ylabel('True Positive Rate')\n",
    "plt.xlabel('False Positive Rate')"
   ]
  },
  {
   "cell_type": "code",
   "execution_count": null,
   "id": "8e9864be",
   "metadata": {},
   "outputs": [],
   "source": []
  }
 ],
 "metadata": {
  "interpreter": {
   "hash": "b76f714e115acd052693d82e3becceda274641bd9dff173da9f9eef9eb7d3c9c"
  },
  "kernelspec": {
   "display_name": "Python 3 (ipykernel)",
   "language": "python",
   "name": "python3"
  },
  "language_info": {
   "codemirror_mode": {
    "name": "ipython",
    "version": 3
   },
   "file_extension": ".py",
   "mimetype": "text/x-python",
   "name": "python",
   "nbconvert_exporter": "python",
   "pygments_lexer": "ipython3",
   "version": "3.8.8"
  }
 },
 "nbformat": 4,
 "nbformat_minor": 5
}
